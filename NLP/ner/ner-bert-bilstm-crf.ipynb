{
 "cells": [
  {
   "cell_type": "code",
   "execution_count": 1,
   "id": "cec38e07",
   "metadata": {},
   "outputs": [
    {
     "name": "stderr",
     "output_type": "stream",
     "text": [
      "/data2/wrz/miniconda3/envs/dl/lib/python3.12/site-packages/tqdm/auto.py:21: TqdmWarning: IProgress not found. Please update jupyter and ipywidgets. See https://ipywidgets.readthedocs.io/en/stable/user_install.html\n",
      "  from .autonotebook import tqdm as notebook_tqdm\n"
     ]
    }
   ],
   "source": [
    "import torch\n",
    "from torch import nn\n",
    "from torch.utils.data import Dataset, DataLoader, random_split\n",
    "from transformers import BertTokenizerFast, BertForTokenClassification, AdamW,BertConfig\n",
    "from transformers import get_linear_schedule_with_warmup\n",
    "from sklearn.metrics import classification_report\n",
    "from tqdm import tqdm\n",
    "from torchcrf import CRF"
   ]
  },
  {
   "cell_type": "code",
   "execution_count": 2,
   "id": "d243475d",
   "metadata": {},
   "outputs": [],
   "source": [
    "class NERDataset(Dataset):\n",
    "    def __init__(self, file_path, tokenizer, max_len):\n",
    "        self.sentences, self.labels = self.read_ner_data(file_path)\n",
    "        self.tokenizer = tokenizer\n",
    "        self.max_len = max_len\n",
    "\n",
    "    def read_ner_data(self, file_path):\n",
    "        with open(file_path, 'r', encoding='utf-8') as file:\n",
    "            data = file.read().strip().split('\\n\\n')\n",
    "        \n",
    "        sentences = []\n",
    "        labels = []\n",
    "        for block in data:\n",
    "            tokens_labels = block.split('\\n')\n",
    "            sentence = []\n",
    "            label = []\n",
    "            for token_label in tokens_labels:\n",
    "                if token_label.strip():\n",
    "                    token, tag = token_label.split()\n",
    "                    sentence.append(token)\n",
    "                    label.append(tag)\n",
    "            sentences.append(sentence)\n",
    "            labels.append(label)\n",
    "        \n",
    "        return sentences, labels\n",
    "\n",
    "    def __len__(self):\n",
    "        return len(self.sentences)\n",
    "\n",
    "    def __getitem__(self, idx):\n",
    "        sentence = self.sentences[idx]\n",
    "        labels = self.labels[idx]\n",
    "\n",
    "        encoding = self.tokenizer(sentence,\n",
    "                                  is_split_into_words=True,\n",
    "                                  padding='max_length',\n",
    "                                  truncation=True,\n",
    "                                  max_length=self.max_len)\n",
    "\n",
    "        labels = [tag2id[label] for label in labels]\n",
    "\n",
    "        # label_ids = [0 if mask == 1 else -100 for mask in encoding['attention_mask']]\n",
    "        label_ids = [-100] * self.max_len\n",
    "        # label_ids[0] = tag2id['<START>']\n",
    "        for i, label in enumerate(labels):\n",
    "            if i < self.max_len - 1:\n",
    "                label_ids[i + 1] = label\n",
    "        # end_idx = len(labels) if len(labels) < self.max_len else self.max_len\n",
    "        # label_ids[end_idx - 1] = tag2id['<END>']\n",
    "\n",
    "        encoding['labels'] = label_ids\n",
    "        return {key: torch.tensor(val) for key, val in encoding.items()}\n",
    "\n",
    "# 标签到ID的映射\n",
    "tag2id = {'O': 0, 'B-ORG': 1, 'I-ORG': 2, 'B-PER': 3, 'I-PER': 4, 'B-LOC': 5, 'I-LOC': 6}\n",
    "id2tag = {v: k for k, v in tag2id.items()}"
   ]
  },
  {
   "cell_type": "code",
   "execution_count": 3,
   "id": "9f34f226",
   "metadata": {},
   "outputs": [],
   "source": [
    "# 参数设置\n",
    "train_file_path = 'data/train.txt'\n",
    "test_file_path = 'data/test.txt'\n",
    "# pretrained_model_name = 'bert-base-chinese'\n",
    "pretrained_model_name = './models--bert-base-chinese/snapshots/c30a6ed22ab4564dc1e3b2ecbf6e766b0611a33f'\n",
    "max_len = 128\n",
    "batch_size = 16\n",
    "epochs = 3\n",
    "learning_rate = 2e-5\n",
    "\n",
    "use_crf = True  # 是否使用CRF层\n",
    "use_bilstm = True  # 是否使用双向LSTM\n",
    "device = torch.device('cuda' if torch.cuda.is_available() else 'cpu')"
   ]
  },
  {
   "cell_type": "code",
   "execution_count": 4,
   "id": "5e9fc808",
   "metadata": {},
   "outputs": [
    {
     "name": "stdout",
     "output_type": "stream",
     "text": [
      "Train dataset size: 46364\n",
      "Test dataset size: 4365\n"
     ]
    }
   ],
   "source": [
    "# 加载预训练模型\n",
    "tokenizer = BertTokenizerFast.from_pretrained(pretrained_model_name)\n",
    "# 创建数据集和数据加载器\n",
    "train_dataset = NERDataset(train_file_path, tokenizer, max_len)\n",
    "test_dataset = NERDataset(test_file_path, tokenizer, max_len)\n",
    "print(f\"Train dataset size: {len(train_dataset)}\")\n",
    "print(f\"Test dataset size: {len(test_dataset)}\")\n",
    "train_size = int(0.9 * len(train_dataset))\n",
    "val_size = len(train_dataset) - train_size \n",
    "train_dataset, val_dataset = random_split(train_dataset, [train_size, val_size])\n",
    "train_loader = DataLoader(train_dataset, batch_size=batch_size, shuffle=True)\n",
    "val_loader = DataLoader(val_dataset, batch_size=batch_size)\n",
    "test_loader = DataLoader(test_dataset, batch_size=batch_size)"
   ]
  },
  {
   "cell_type": "code",
   "execution_count": 5,
   "id": "dd08db0b",
   "metadata": {},
   "outputs": [],
   "source": [
    "from typing import List\n",
    "class NER(nn.Module):\n",
    "    def __init__(self, model_name, num_labels, \n",
    "                 use_bilstm=False, use_crf=False, \n",
    "                 dropout=0.1):\n",
    "        super().__init__()\n",
    "        # 核心配置参数\n",
    "        self.use_bilstm = use_bilstm\n",
    "        self.use_crf = use_crf\n",
    "        \n",
    "        # BERT基础模型（使用ForTokenClassification版本）\n",
    "        self.bert_tc = BertForTokenClassification.from_pretrained(\n",
    "            model_name, \n",
    "            num_labels=num_labels,\n",
    "            output_hidden_states=True  # 需要获取中间层输出\n",
    "        )\n",
    "        self.hidden_dim = self.bert_tc.config.hidden_size\n",
    "        # BiLSTM模块（可选）\n",
    "        if use_bilstm:\n",
    "            self.bilstm = nn.LSTM(\n",
    "                input_size=self.bert_tc.config.hidden_size,\n",
    "                hidden_size=self.hidden_dim // 2,\n",
    "                bidirectional=True,\n",
    "                batch_first=True\n",
    "            )\n",
    "            # 替换原分类器\n",
    "            # self.bert_tc.classifier = nn.Linear(self.hidden_dim, num_labels)\n",
    "            \n",
    "        # CRF模块（可选）\n",
    "        if use_crf:\n",
    "            self.crf = CRF(num_labels, batch_first=True)\n",
    "            \n",
    "        # 通用配置\n",
    "        self.dropout = nn.Dropout(dropout)\n",
    "\n",
    "    def forward(self, input_ids, attention_mask,token_type_ids = None, labels=None):\n",
    "        # BERT前向传播\n",
    "        outputs = self.bert_tc(\n",
    "            input_ids=input_ids,\n",
    "            attention_mask=attention_mask,\n",
    "            token_type_ids = token_type_ids,\n",
    "            labels = labels\n",
    "        )\n",
    "        \n",
    "        # 获取最终隐藏状态（不使用原logits）\n",
    "        hidden_states = outputs.hidden_states[-1]  # (B, L, H)\n",
    "        \n",
    "        # BiLSTM处理（如果启用）\n",
    "        if self.use_bilstm:\n",
    "            lstm_out, _ = self.bilstm(hidden_states)\n",
    "            lstm_out = self.dropout(lstm_out)\n",
    "            emissions = self.bert_tc.classifier(lstm_out)\n",
    "        else:\n",
    "            # 使用默认分类器\n",
    "            emissions = self.bert_tc.classifier(hidden_states)\n",
    "        \n",
    "        # CRF处理（如果启用）\n",
    "        loss = None\n",
    "        if labels is not None:\n",
    "            if self.use_crf:\n",
    "                crf_labels = labels.clone()\n",
    "                crf_labels[labels == -100] = 0  # CRF不支持-100标签\n",
    "                crf_mask = attention_mask.bool().clone()\n",
    "                crf_mask[labels == -100] = False\n",
    "                loss = -self.crf(emissions[:, 1:], tags = crf_labels[:, 1:], mask=crf_mask[:, 1:], reduction='mean')\n",
    "            else:\n",
    "                loss_fct = nn.CrossEntropyLoss()\n",
    "                active_loss = attention_mask.view(-1) == 1\n",
    "                active_logits = emissions.view(-1, self.bert_tc.config.num_labels)\n",
    "                active_labels = labels.view(-1)\n",
    "                loss = loss_fct(active_logits[active_loss], active_labels[active_loss])\n",
    "        \n",
    "        return {\"loss\": loss, \"emissions\": emissions}\n",
    "\n",
    "    def decode(self, emissions, mask) -> List[int]: \n",
    "        if self.use_crf:\n",
    "            \n",
    "            tags_list = self.crf.decode(emissions, mask=mask.bool())\n",
    "            predict = []\n",
    "            for tags in tags_list:\n",
    "                predict.extend(tags)\n",
    "            return predict\n",
    "        else:\n",
    "            tags_list = torch.argmax(emissions, dim=-1)\n",
    "            predict = []\n",
    "            for tags in tags_list:\n",
    "                predict.extend(tags[mask == 1].tolist())\n",
    "            return predict"
   ]
  },
  {
   "cell_type": "code",
   "execution_count": 6,
   "id": "71ea5abb",
   "metadata": {},
   "outputs": [
    {
     "name": "stderr",
     "output_type": "stream",
     "text": [
      "Some weights of BertForTokenClassification were not initialized from the model checkpoint at ./models--bert-base-chinese/snapshots/c30a6ed22ab4564dc1e3b2ecbf6e766b0611a33f and are newly initialized: ['classifier.bias', 'classifier.weight']\n",
      "You should probably TRAIN this model on a down-stream task to be able to use it for predictions and inference.\n",
      "/data2/wrz/miniconda3/envs/dl/lib/python3.12/site-packages/transformers/optimization.py:591: FutureWarning: This implementation of AdamW is deprecated and will be removed in a future version. Use the PyTorch implementation torch.optim.AdamW instead, or set `no_deprecation_warning=True` to disable this warning\n",
      "  warnings.warn(\n"
     ]
    }
   ],
   "source": [
    "\n",
    "# 设置优化器和学习率调度器\n",
    "model = NER(pretrained_model_name, num_labels=len(tag2id), use_bilstm=use_bilstm, use_crf=use_crf)\n",
    "optimizer = AdamW(model.parameters(), lr=learning_rate)\n",
    "total_steps = len(train_loader) * epochs\n",
    "scheduler = get_linear_schedule_with_warmup(optimizer, num_warmup_steps=0, num_training_steps=total_steps)"
   ]
  },
  {
   "cell_type": "markdown",
   "id": "5b79a45a",
   "metadata": {},
   "source": []
  },
  {
   "cell_type": "code",
   "execution_count": 7,
   "id": "f0c38ce3",
   "metadata": {},
   "outputs": [],
   "source": [
    "def evaluate_model(loader, dataset_type=\"Validation\", device=\"cuda\"):\n",
    "    model.eval()\n",
    "    true_labels = []\n",
    "    pred_labels = []\n",
    "\n",
    "    with torch.no_grad():\n",
    "        for batch in loader:\n",
    "            inputs = {key: val.to(device) for key, val in batch.items()}\n",
    "            outputs = model(**inputs)\n",
    "            emissions = outputs['emissions']\n",
    "            mask = inputs['attention_mask'].bool()  # 获取有效的输入位置的mask\n",
    "            mask[inputs['labels'] == -100] = False  # CRF不支持-100标签\n",
    "            predictions = model.decode(emissions[:,1:], mask[:,1:])  # 忽略第一个token的预测\n",
    "            for i in range(len(emissions)):\n",
    "                true_labels.extend(inputs['labels'][i][mask[i]].tolist())\n",
    "            pred_labels.extend(predictions)\n",
    "    report = classification_report(true_labels, pred_labels, target_names=[id2tag[i] for i in range(len(tag2id))], zero_division=0)\n",
    "    print(f\"{dataset_type} metrics:\\n{report}\")"
   ]
  },
  {
   "cell_type": "code",
   "execution_count": 8,
   "id": "c9fb53a6",
   "metadata": {},
   "outputs": [
    {
     "name": "stderr",
     "output_type": "stream",
     "text": [
      "Training Epoch 1: 100%|██████████| 2608/2608 [09:17<00:00,  4.68it/s]\n"
     ]
    },
    {
     "name": "stdout",
     "output_type": "stream",
     "text": [
      "Validation metrics:\n",
      "              precision    recall  f1-score   support\n",
      "\n",
      "           O       1.00      1.00      1.00    189930\n",
      "       B-ORG       0.94      0.94      0.94      2069\n",
      "       I-ORG       0.95      0.97      0.96      8139\n",
      "       B-PER       0.99      0.99      0.99      1705\n",
      "       I-PER       0.99      0.99      0.99      3348\n",
      "       B-LOC       0.97      0.97      0.97      3470\n",
      "       I-LOC       0.97      0.95      0.96      4781\n",
      "\n",
      "    accuracy                           0.99    213442\n",
      "   macro avg       0.97      0.97      0.97    213442\n",
      "weighted avg       0.99      0.99      0.99    213442\n",
      "\n"
     ]
    },
    {
     "name": "stderr",
     "output_type": "stream",
     "text": [
      "Training Epoch 2: 100%|██████████| 2608/2608 [09:07<00:00,  4.77it/s]\n"
     ]
    },
    {
     "name": "stdout",
     "output_type": "stream",
     "text": [
      "Validation metrics:\n",
      "              precision    recall  f1-score   support\n",
      "\n",
      "           O       1.00      1.00      1.00    189930\n",
      "       B-ORG       0.96      0.94      0.95      2069\n",
      "       I-ORG       0.96      0.96      0.96      8139\n",
      "       B-PER       0.99      0.99      0.99      1705\n",
      "       I-PER       1.00      0.99      0.99      3348\n",
      "       B-LOC       0.97      0.98      0.98      3470\n",
      "       I-LOC       0.96      0.97      0.96      4781\n",
      "\n",
      "    accuracy                           0.99    213442\n",
      "   macro avg       0.98      0.98      0.98    213442\n",
      "weighted avg       0.99      0.99      0.99    213442\n",
      "\n"
     ]
    },
    {
     "name": "stderr",
     "output_type": "stream",
     "text": [
      "Training Epoch 3: 100%|██████████| 2608/2608 [09:09<00:00,  4.74it/s]\n"
     ]
    },
    {
     "name": "stdout",
     "output_type": "stream",
     "text": [
      "Validation metrics:\n",
      "              precision    recall  f1-score   support\n",
      "\n",
      "           O       1.00      1.00      1.00    189930\n",
      "       B-ORG       0.96      0.95      0.95      2069\n",
      "       I-ORG       0.97      0.96      0.97      8139\n",
      "       B-PER       0.99      0.99      0.99      1705\n",
      "       I-PER       0.99      0.99      0.99      3348\n",
      "       B-LOC       0.97      0.98      0.98      3470\n",
      "       I-LOC       0.97      0.97      0.97      4781\n",
      "\n",
      "    accuracy                           1.00    213442\n",
      "   macro avg       0.98      0.98      0.98    213442\n",
      "weighted avg       1.00      1.00      1.00    213442\n",
      "\n",
      "Training complete.\n"
     ]
    }
   ],
   "source": [
    "# 训练模型\n",
    "model.to(device)\n",
    "test = True\n",
    "for epoch in range(epochs):\n",
    "    model.train()\n",
    "    for batch in tqdm(train_loader, desc=f\"Training Epoch {epoch+1}\"):\n",
    "        inputs = {key: val.to(device) for key, val in batch.items()}\n",
    "        outputs = model(**inputs)\n",
    "        loss = outputs['loss']\n",
    "        loss.backward()\n",
    "        \n",
    "        optimizer.step()\n",
    "        scheduler.step()\n",
    "        optimizer.zero_grad()\n",
    "    \n",
    "    # 在每个epoch结束时评估验证集\n",
    "    evaluate_model(val_loader, \"Validation\", device)\n",
    "\n",
    "print(\"Training complete.\")"
   ]
  },
  {
   "cell_type": "code",
   "execution_count": 9,
   "id": "d92c2868",
   "metadata": {},
   "outputs": [
    {
     "name": "stdout",
     "output_type": "stream",
     "text": [
      "Test metrics:\n",
      "              precision    recall  f1-score   support\n",
      "\n",
      "           O       1.00      1.00      1.00    150668\n",
      "       B-ORG       0.92      0.95      0.93      1302\n",
      "       I-ORG       0.93      0.97      0.95      5460\n",
      "       B-PER       0.98      0.99      0.99      1401\n",
      "       I-PER       0.98      0.99      0.98      2647\n",
      "       B-LOC       0.98      0.96      0.97      2851\n",
      "       I-LOC       0.97      0.95      0.96      4356\n",
      "\n",
      "    accuracy                           0.99    168685\n",
      "   macro avg       0.97      0.97      0.97    168685\n",
      "weighted avg       0.99      0.99      0.99    168685\n",
      "\n"
     ]
    }
   ],
   "source": [
    "# 测试模型\n",
    "evaluate_model(test_loader, \"Test\")"
   ]
  }
 ],
 "metadata": {
  "kernelspec": {
   "display_name": "dl",
   "language": "python",
   "name": "python3"
  },
  "language_info": {
   "codemirror_mode": {
    "name": "ipython",
    "version": 3
   },
   "file_extension": ".py",
   "mimetype": "text/x-python",
   "name": "python",
   "nbconvert_exporter": "python",
   "pygments_lexer": "ipython3",
   "version": "3.12.2"
  }
 },
 "nbformat": 4,
 "nbformat_minor": 5
}
