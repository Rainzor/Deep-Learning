{
 "cells": [
  {
   "cell_type": "code",
   "execution_count": 20,
   "metadata": {},
   "outputs": [],
   "source": [
    "import torch\n",
    "from torch.utils.data import Dataset, DataLoader, random_split\n",
    "from transformers import BertTokenizerFast, BertForTokenClassification, AdamW\n",
    "from transformers import get_linear_schedule_with_warmup\n",
    "from sklearn.metrics import classification_report\n",
    "from tqdm import tqdm\n",
    "from torchcrf import CRF"
   ]
  },
  {
   "cell_type": "code",
   "execution_count": 21,
   "metadata": {},
   "outputs": [],
   "source": [
    "class NERDataset(Dataset):\n",
    "    def __init__(self, file_path, tokenizer, max_len):\n",
    "        self.sentences, self.labels = self.read_ner_data(file_path)\n",
    "        self.tokenizer = tokenizer\n",
    "        self.max_len = max_len\n",
    "\n",
    "    def read_ner_data(self, file_path):\n",
    "        with open(file_path, 'r', encoding='utf-8') as file:\n",
    "            data = file.read().strip().split('\\n\\n')\n",
    "        \n",
    "        sentences = []\n",
    "        labels = []\n",
    "        for block in data:\n",
    "            tokens_labels = block.split('\\n')\n",
    "            sentence = []\n",
    "            label = []\n",
    "            for token_label in tokens_labels:\n",
    "                if token_label.strip():\n",
    "                    token, tag = token_label.split()\n",
    "                    sentence.append(token)\n",
    "                    label.append(tag)\n",
    "            sentences.append(sentence)\n",
    "            labels.append(label)\n",
    "        \n",
    "        return sentences, labels\n",
    "\n",
    "    def __len__(self):\n",
    "        return len(self.sentences)\n",
    "\n",
    "    def __getitem__(self, idx):\n",
    "        sentence = self.sentences[idx]\n",
    "        labels = self.labels[idx]\n",
    "\n",
    "        encoding = self.tokenizer(sentence,\n",
    "                                  is_split_into_words=True,\n",
    "                                  padding='max_length',\n",
    "                                  truncation=True,\n",
    "                                  max_length=self.max_len)\n",
    "\n",
    "        labels = [tag2id[label] for label in labels]\n",
    "\n",
    "        # label_ids = [0 if mask == 1 else -100 for mask in encoding['attention_mask']]\n",
    "        label_ids = [-100] * self.max_len\n",
    "        # label_ids[0] = tag2id['<START>']\n",
    "        for i, label in enumerate(labels):\n",
    "            if i < self.max_len - 1:\n",
    "                label_ids[i + 1] = label\n",
    "        # end_idx = len(labels) if len(labels) < self.max_len else self.max_len\n",
    "        # label_ids[end_idx - 1] = tag2id['<END>']\n",
    "\n",
    "        encoding['labels'] = label_ids\n",
    "        return {key: torch.tensor(val) for key, val in encoding.items()}\n",
    "\n",
    "# 标签到ID的映射\n",
    "tag2id = {'O': 0, 'B-ORG': 1, 'I-ORG': 2, 'B-PER': 3, 'I-PER': 4, 'B-LOC': 5, 'I-LOC': 6}\n",
    "id2tag = {v: k for k, v in tag2id.items()}"
   ]
  },
  {
   "cell_type": "code",
   "execution_count": 22,
   "metadata": {},
   "outputs": [],
   "source": [
    "# 参数设置\n",
    "train_file_path = 'data/train.txt'\n",
    "test_file_path = 'data/test.txt'\n",
    "# pretrained_model_name = 'bert-base-chinese'\n",
    "pretrained_model_name = './models--bert-base-chinese/snapshots/c30a6ed22ab4564dc1e3b2ecbf6e766b0611a33f'\n",
    "max_len = 128\n",
    "batch_size = 16\n",
    "epochs = 3\n",
    "learning_rate = 2e-5"
   ]
  },
  {
   "cell_type": "markdown",
   "metadata": {},
   "source": [
    "预训练模型下载地址\n",
    "https://hf-mirror.com/google-bert/bert-base-chinese"
   ]
  },
  {
   "cell_type": "code",
   "execution_count": 23,
   "metadata": {},
   "outputs": [
    {
     "name": "stderr",
     "output_type": "stream",
     "text": [
      "Some weights of BertForTokenClassification were not initialized from the model checkpoint at ./models--bert-base-chinese/snapshots/c30a6ed22ab4564dc1e3b2ecbf6e766b0611a33f and are newly initialized: ['classifier.bias', 'classifier.weight']\n",
      "You should probably TRAIN this model on a down-stream task to be able to use it for predictions and inference.\n"
     ]
    }
   ],
   "source": [
    "# 加载预训练模型和分词器\n",
    "tokenizer = BertTokenizerFast.from_pretrained(pretrained_model_name)\n",
    "model = BertForTokenClassification.from_pretrained(pretrained_model_name, num_labels=len(tag2id))"
   ]
  },
  {
   "cell_type": "code",
   "execution_count": 24,
   "metadata": {},
   "outputs": [],
   "source": [
    "crf = CRF(num_tags = len(tag2id), batch_first = True)"
   ]
  },
  {
   "cell_type": "code",
   "execution_count": 25,
   "metadata": {},
   "outputs": [
    {
     "name": "stdout",
     "output_type": "stream",
     "text": [
      "Train dataset size: 46364\n",
      "Test dataset size: 4365\n"
     ]
    }
   ],
   "source": [
    "# 创建数据集和数据加载器\n",
    "train_dataset = NERDataset(train_file_path, tokenizer, max_len)\n",
    "test_dataset = NERDataset(test_file_path, tokenizer, max_len)\n",
    "print(f\"Train dataset size: {len(train_dataset)}\")\n",
    "print(f\"Test dataset size: {len(test_dataset)}\")\n",
    "train_size = int(0.9 * len(train_dataset))\n",
    "val_size = len(train_dataset) - train_size \n",
    "train_dataset, val_dataset = random_split(train_dataset, [train_size, val_size])\n",
    "train_loader = DataLoader(train_dataset, batch_size=batch_size, shuffle=True)\n",
    "val_loader = DataLoader(val_dataset, batch_size=batch_size)\n",
    "test_loader = DataLoader(test_dataset, batch_size=batch_size)"
   ]
  },
  {
   "cell_type": "code",
   "execution_count": 26,
   "metadata": {},
   "outputs": [
    {
     "name": "stderr",
     "output_type": "stream",
     "text": [
      "/data2/wrz/miniconda3/envs/dl/lib/python3.12/site-packages/transformers/optimization.py:591: FutureWarning: This implementation of AdamW is deprecated and will be removed in a future version. Use the PyTorch implementation torch.optim.AdamW instead, or set `no_deprecation_warning=True` to disable this warning\n",
      "  warnings.warn(\n"
     ]
    }
   ],
   "source": [
    "# 设置优化器和学习率调度器\n",
    "optimizer = AdamW(model.parameters(), lr=learning_rate)\n",
    "total_steps = len(train_loader) * epochs\n",
    "scheduler = get_linear_schedule_with_warmup(optimizer, num_warmup_steps=0, num_training_steps=total_steps)"
   ]
  },
  {
   "cell_type": "code",
   "execution_count": 27,
   "metadata": {},
   "outputs": [],
   "source": [
    "# 评估模型\n",
    "def evaluate_model(loader, dataset_type=\"Validation\", device=\"cuda\"):\n",
    "    model.eval()\n",
    "    true_labels = []\n",
    "    pred_labels = []\n",
    "\n",
    "    with torch.no_grad():\n",
    "        for batch in loader:\n",
    "            inputs = {key: val.to(device) for key, val in batch.items()}\n",
    "            outputs = model(**inputs)\n",
    "            logits = outputs.logits # 去掉CLS标记的logits\n",
    "\n",
    "            mask = inputs['attention_mask'].bool().clone()\n",
    "            mask[inputs['labels'] == -100] = 0\n",
    "            # 使用CRF进行解码\n",
    "            predictions = crf.decode(logits[:, 1:], mask=mask[:, 1:])\n",
    "            # predictions = torch.argmax(logits, dim=-1)\n",
    "            for i in range(len(predictions)):\n",
    "                true_labels.extend(inputs['labels'][i][mask[i] == 1].tolist())\n",
    "                pred_labels.extend(predictions[i])\n",
    "    report = classification_report(true_labels, pred_labels, target_names=[id2tag[i] for i in range(len(tag2id))], zero_division=0)\n",
    "    print(f\"{dataset_type} metrics:\\n{report}\")"
   ]
  },
  {
   "cell_type": "code",
   "execution_count": 28,
   "metadata": {},
   "outputs": [
    {
     "name": "stderr",
     "output_type": "stream",
     "text": [
      "Training Epoch 1: 100%|██████████| 2608/2608 [08:42<00:00,  4.99it/s]\n"
     ]
    },
    {
     "name": "stdout",
     "output_type": "stream",
     "text": [
      "Validation metrics:\n",
      "              precision    recall  f1-score   support\n",
      "\n",
      "           O       1.00      1.00      1.00    191564\n",
      "       B-ORG       0.96      0.92      0.94      2075\n",
      "       I-ORG       0.97      0.94      0.95      8510\n",
      "       B-PER       0.99      0.99      0.99      1694\n",
      "       I-PER       0.99      0.99      0.99      3270\n",
      "       B-LOC       0.97      0.97      0.97      3736\n",
      "       I-LOC       0.93      0.98      0.95      5148\n",
      "\n",
      "    accuracy                           0.99    215997\n",
      "   macro avg       0.97      0.97      0.97    215997\n",
      "weighted avg       0.99      0.99      0.99    215997\n",
      "\n"
     ]
    },
    {
     "name": "stderr",
     "output_type": "stream",
     "text": [
      "Training Epoch 2: 100%|██████████| 2608/2608 [08:46<00:00,  4.96it/s]\n"
     ]
    },
    {
     "name": "stdout",
     "output_type": "stream",
     "text": [
      "Validation metrics:\n",
      "              precision    recall  f1-score   support\n",
      "\n",
      "           O       1.00      1.00      1.00    191564\n",
      "       B-ORG       0.94      0.96      0.95      2075\n",
      "       I-ORG       0.97      0.97      0.97      8510\n",
      "       B-PER       0.99      0.99      0.99      1694\n",
      "       I-PER       1.00      0.99      0.99      3270\n",
      "       B-LOC       0.97      0.97      0.97      3736\n",
      "       I-LOC       0.96      0.97      0.97      5148\n",
      "\n",
      "    accuracy                           0.99    215997\n",
      "   macro avg       0.98      0.98      0.98    215997\n",
      "weighted avg       1.00      0.99      0.99    215997\n",
      "\n"
     ]
    },
    {
     "name": "stderr",
     "output_type": "stream",
     "text": [
      "Training Epoch 3: 100%|██████████| 2608/2608 [08:43<00:00,  4.98it/s]\n"
     ]
    },
    {
     "name": "stdout",
     "output_type": "stream",
     "text": [
      "Validation metrics:\n",
      "              precision    recall  f1-score   support\n",
      "\n",
      "           O       1.00      1.00      1.00    191564\n",
      "       B-ORG       0.95      0.96      0.95      2075\n",
      "       I-ORG       0.97      0.96      0.97      8510\n",
      "       B-PER       0.99      0.99      0.99      1694\n",
      "       I-PER       1.00      0.99      0.99      3270\n",
      "       B-LOC       0.97      0.98      0.97      3736\n",
      "       I-LOC       0.96      0.97      0.97      5148\n",
      "\n",
      "    accuracy                           1.00    215997\n",
      "   macro avg       0.98      0.98      0.98    215997\n",
      "weighted avg       1.00      1.00      1.00    215997\n",
      "\n",
      "Training complete.\n"
     ]
    }
   ],
   "source": [
    "# 训练模型\n",
    "from sympy import false\n",
    "\n",
    "\n",
    "device = torch.device('cuda' if torch.cuda.is_available() else 'cpu')\n",
    "model.to(device)\n",
    "crf.to(device)\n",
    "for epoch in range(epochs):\n",
    "    model.train()\n",
    "    for batch in tqdm(train_loader, desc=f\"Training Epoch {epoch+1}\"):\n",
    "        inputs = {key: val.to(device) for key, val in batch.items()}\n",
    "        \n",
    "        outputs = model(**inputs)\n",
    "        logits = outputs.logits # shape: (batch_size, seq_len, num_labels)\n",
    "\n",
    "        labels = inputs['labels'].clone() # shape: (batch_size, seq_len)\n",
    "        mask = inputs['attention_mask'].bool().clone()\n",
    "        mask[inputs['labels'] == -100] = 0\n",
    "        labels[inputs['labels'] == -100] = 0\n",
    "        loss = -crf.forward(emissions= logits[:, 1:], tags=labels[:, 1:], mask=mask[:, 1:], reduction='mean')\n",
    "        # loss = outputs.loss\n",
    "        loss.backward()\n",
    "        \n",
    "        optimizer.step()\n",
    "        scheduler.step()\n",
    "        optimizer.zero_grad()\n",
    "    \n",
    "    # 在每个epoch结束时评估验证集\n",
    "    evaluate_model(val_loader, \"Validation\", device)\n",
    "\n",
    "print(\"Training complete.\")"
   ]
  },
  {
   "cell_type": "code",
   "execution_count": 29,
   "metadata": {},
   "outputs": [
    {
     "name": "stdout",
     "output_type": "stream",
     "text": [
      "Test metrics:\n",
      "              precision    recall  f1-score   support\n",
      "\n",
      "           O       1.00      1.00      1.00    150668\n",
      "       B-ORG       0.92      0.95      0.94      1302\n",
      "       I-ORG       0.93      0.97      0.95      5460\n",
      "       B-PER       0.98      0.99      0.98      1401\n",
      "       I-PER       0.98      0.99      0.98      2647\n",
      "       B-LOC       0.98      0.97      0.97      2851\n",
      "       I-LOC       0.97      0.96      0.96      4356\n",
      "\n",
      "    accuracy                           0.99    168685\n",
      "   macro avg       0.97      0.97      0.97    168685\n",
      "weighted avg       0.99      0.99      0.99    168685\n",
      "\n"
     ]
    }
   ],
   "source": [
    "# 测试模型\n",
    "evaluate_model(test_loader, \"Test\")"
   ]
  }
 ],
 "metadata": {
  "kernelspec": {
   "display_name": "dl",
   "language": "python",
   "name": "python3"
  },
  "language_info": {
   "codemirror_mode": {
    "name": "ipython",
    "version": 3
   },
   "file_extension": ".py",
   "mimetype": "text/x-python",
   "name": "python",
   "nbconvert_exporter": "python",
   "pygments_lexer": "ipython3",
   "version": "3.12.2"
  }
 },
 "nbformat": 4,
 "nbformat_minor": 2
}
