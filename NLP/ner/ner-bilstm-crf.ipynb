{
 "cells": [
  {
   "cell_type": "code",
   "execution_count": 47,
   "id": "cc7d452e",
   "metadata": {},
   "outputs": [],
   "source": [
    "import torch\n",
    "from torch.utils.data import Dataset, DataLoader, random_split\n",
    "from transformers import BertTokenizerFast, BertForTokenClassification, AdamW\n",
    "from transformers import get_linear_schedule_with_warmup\n",
    "from sklearn.metrics import classification_report\n",
    "from tqdm import tqdm\n",
    "from torchcrf import CRF"
   ]
  },
  {
   "cell_type": "code",
   "execution_count": 48,
   "id": "d3f470d6",
   "metadata": {},
   "outputs": [],
   "source": [
    "class NERDataset(Dataset):\n",
    "    def __init__(self, file_path, tokenizer, max_len):\n",
    "        self.sentences, self.labels = self.read_ner_data(file_path)\n",
    "        self.tokenizer = tokenizer\n",
    "        self.max_len = max_len\n",
    "\n",
    "    def read_ner_data(self, file_path):\n",
    "        with open(file_path, 'r', encoding='utf-8') as file:\n",
    "            data = file.read().strip().split('\\n\\n')\n",
    "        \n",
    "        sentences = []\n",
    "        labels = []\n",
    "        for block in data:\n",
    "            tokens_labels = block.split('\\n')\n",
    "            sentence = []\n",
    "            label = []\n",
    "            for token_label in tokens_labels:\n",
    "                if token_label.strip():\n",
    "                    token, tag = token_label.split()\n",
    "                    sentence.append(token)\n",
    "                    label.append(tag)\n",
    "            sentences.append(sentence)\n",
    "            labels.append(label)\n",
    "        \n",
    "        return sentences, labels\n",
    "\n",
    "    def __len__(self):\n",
    "        return len(self.sentences)\n",
    "\n",
    "    def __getitem__(self, idx):\n",
    "        sentence = self.sentences[idx]\n",
    "        labels = self.labels[idx]\n",
    "\n",
    "        encoding = self.tokenizer(sentence,\n",
    "                                  is_split_into_words=True,\n",
    "                                  padding='max_length',\n",
    "                                  truncation=True,\n",
    "                                  max_length=self.max_len)\n",
    "\n",
    "        labels = [tag2id[label] for label in labels]\n",
    "\n",
    "        # label_ids = [0 if mask == 1 else -100 for mask in encoding['attention_mask']]\n",
    "        label_ids = [-100] * self.max_len\n",
    "        label_ids[0] = tag2id['<START>']\n",
    "        label_size = len(labels)\n",
    "        for i, label in enumerate(labels):\n",
    "            if i < self.max_len - 1:\n",
    "                label_ids[i + 1] = label\n",
    "        if label_size < self.max_len - 1:\n",
    "            label_ids[label_size + 1] = tag2id['<END>']\n",
    "        else:\n",
    "            label_ids[-1] = tag2id['<END>']\n",
    "\n",
    "        encoding['labels'] = label_ids\n",
    "        return {key: torch.tensor(val) for key, val in encoding.items()}\n",
    "\n",
    "# 标签到ID的映射\n",
    "tag2id = {'O': 0, 'B-ORG': 1, 'I-ORG': 2, 'B-PER': 3, 'I-PER': 4, 'B-LOC': 5, 'I-LOC': 6, '<START>': 7, '<END>': 8}\n",
    "id2tag = {v: k for k, v in tag2id.items()}"
   ]
  },
  {
   "cell_type": "code",
   "execution_count": 49,
   "id": "f13bfcf5",
   "metadata": {},
   "outputs": [],
   "source": [
    "# 参数设置\n",
    "train_file_path = 'data/train.txt'\n",
    "test_file_path = 'data/test.txt'\n",
    "\n",
    "pretrained_model_name = './models--bert-base-chinese/snapshots/c30a6ed22ab4564dc1e3b2ecbf6e766b0611a33f'\n",
    "max_len = 128\n",
    "batch_size = 16\n",
    "epochs = 3\n",
    "learning_rate = 2e-5\n",
    "\n",
    "use_crf = True  # 是否使用CRF层\n",
    "use_bilstm = True  # 是否使用双向LSTM\n",
    "device = torch.device('cuda' if torch.cuda.is_available() else 'cpu')"
   ]
  },
  {
   "cell_type": "code",
   "execution_count": 50,
   "id": "fa060597",
   "metadata": {},
   "outputs": [
    {
     "name": "stdout",
     "output_type": "stream",
     "text": [
      "Train dataset size: 46364\n",
      "Test dataset size: 4365\n"
     ]
    }
   ],
   "source": [
    "# 加载预训练模型\n",
    "tokenizer = BertTokenizerFast.from_pretrained(pretrained_model_name)\n",
    "vocab_size = tokenizer.vocab_size\n",
    "# 创建数据集和数据加载器\n",
    "train_dataset = NERDataset(train_file_path, tokenizer, max_len)\n",
    "test_dataset = NERDataset(test_file_path, tokenizer, max_len)\n",
    "print(f\"Train dataset size: {len(train_dataset)}\")\n",
    "print(f\"Test dataset size: {len(test_dataset)}\")\n",
    "train_size = int(0.9 * len(train_dataset))\n",
    "val_size = len(train_dataset) - train_size \n",
    "train_dataset, val_dataset = random_split(train_dataset, [train_size, val_size])\n",
    "train_loader = DataLoader(train_dataset, batch_size=batch_size, shuffle=True)\n",
    "val_loader = DataLoader(val_dataset, batch_size=batch_size)\n",
    "test_loader = DataLoader(test_dataset, batch_size=batch_size)"
   ]
  },
  {
   "cell_type": "code",
   "execution_count": 51,
   "id": "920b35db",
   "metadata": {},
   "outputs": [],
   "source": [
    "from torch import nn\n",
    "class BiLSTM_CRF_NER(nn.Module):\n",
    "    def __init__(self, vocab_size, embedding_dim=128, hidden_dim=256, \n",
    "                 num_labels=7, num_layers=2, dropout=0.1, \n",
    "                 use_bilstm=True, use_crf=True):\n",
    "        super(BiLSTM_CRF_NER, self).__init__()\n",
    "        \n",
    "        self.vocab_size = vocab_size\n",
    "        self.embedding_dim = embedding_dim\n",
    "        self.hidden_dim = hidden_dim\n",
    "        self.num_labels = num_labels\n",
    "        self.use_bilstm = use_bilstm\n",
    "        self.use_crf = use_crf\n",
    "        \n",
    "        # 词嵌入层\n",
    "        self.embedding = nn.Embedding(vocab_size, embedding_dim, padding_idx=0)\n",
    "        \n",
    "        # BiLSTM层\n",
    "        if self.use_bilstm:\n",
    "            self.bilstm = nn.LSTM(\n",
    "                input_size=embedding_dim,\n",
    "                hidden_size=hidden_dim,\n",
    "                num_layers=num_layers,\n",
    "                batch_first=True,\n",
    "                dropout=dropout if num_layers > 1 else 0,\n",
    "                bidirectional=True\n",
    "            )\n",
    "            self.dropout = nn.Dropout(dropout)\n",
    "            lstm_output_dim = hidden_dim * 2  # 双向LSTM\n",
    "        else:\n",
    "            lstm_output_dim = embedding_dim\n",
    "        \n",
    "        # 分类层\n",
    "        self.classifier = nn.Linear(lstm_output_dim, num_labels)\n",
    "        \n",
    "        # CRF层\n",
    "        if self.use_crf:\n",
    "            self.crf = CRF(num_labels, batch_first=True)\n",
    "        \n",
    "        # 初始化权重\n",
    "        self.init_weights()\n",
    "    \n",
    "    def init_weights(self):\n",
    "        \"\"\"初始化模型权重\"\"\"\n",
    "        nn.init.xavier_uniform_(self.embedding.weight)\n",
    "        nn.init.xavier_uniform_(self.classifier.weight)\n",
    "        nn.init.constant_(self.classifier.bias, 0)\n",
    "        \n",
    "        if self.use_bilstm:\n",
    "            for name, param in self.bilstm.named_parameters():\n",
    "                if 'weight' in name:\n",
    "                    nn.init.xavier_uniform_(param)\n",
    "                elif 'bias' in name:\n",
    "                    nn.init.constant_(param, 0)\n",
    "    \n",
    "    def forward(self, input_ids, attention_mask, token_type_ids=None, labels=None):\n",
    "        batch_size, seq_len = input_ids.size()\n",
    "        \n",
    "        # 词嵌入\n",
    "        embeddings = self.embedding(input_ids)  # (batch_size, seq_len, embedding_dim)\n",
    "        \n",
    "        # BiLSTM处理\n",
    "        if self.use_bilstm:\n",
    "            # 使用attention_mask创建有效长度\n",
    "            lengths = attention_mask.sum(dim=1).cpu()\n",
    "            \n",
    "            # Pack padded sequence for efficiency\n",
    "            packed_embeddings = nn.utils.rnn.pack_padded_sequence(\n",
    "                embeddings, lengths, batch_first=True, enforce_sorted=False\n",
    "            )\n",
    "            \n",
    "            packed_output, _ = self.bilstm(packed_embeddings)\n",
    "            \n",
    "            # Unpack\n",
    "            lstm_output, _ = nn.utils.rnn.pad_packed_sequence(\n",
    "                packed_output, batch_first=True, total_length=seq_len\n",
    "            )\n",
    "            \n",
    "            lstm_output = self.dropout(lstm_output)\n",
    "            logits = self.classifier(lstm_output)\n",
    "        else:\n",
    "            logits = self.classifier(embeddings)\n",
    "        \n",
    "        outputs = {}\n",
    "        \n",
    "        if labels is not None:\n",
    "            if self.use_crf:\n",
    "                # 创建mask，排除-100的位置\n",
    "                mask = (labels != -100) & (attention_mask == 1)\n",
    "                \n",
    "                # 将-100替换为0以避免CRF计算错误\n",
    "                crf_labels = labels.clone()\n",
    "                crf_labels[labels == -100] = 0\n",
    "                \n",
    "                # 计算CRF损失\n",
    "                loss = -self.crf(logits, crf_labels, mask=mask, reduction='mean')\n",
    "                outputs['loss'] = loss\n",
    "                \n",
    "            else:\n",
    "                # 标准交叉熵损失\n",
    "                loss_fct = nn.CrossEntropyLoss(ignore_index=-100)\n",
    "                \n",
    "                # 计算损失\n",
    "                loss = loss_fct(logits.view(-1, self.num_labels), labels.view(-1))\n",
    "                outputs['loss'] = loss\n",
    "        outputs['logits'] = logits\n",
    "        return outputs\n",
    "    def decode(self, logits, attention_mask):\n",
    "        if self.use_crf:\n",
    "            mask = attention_mask.bool()\n",
    "            predictions = self.crf.decode(logits, mask=mask)\n",
    "            predict = []\n",
    "            for p in predictions:\n",
    "                # 将CRF的输出转换为标签ID\n",
    "                predict.extend(p)\n",
    "            return predict\n",
    "        else:\n",
    "            # 直接取最大值的索引\n",
    "            predictions = torch.argmax(logits, dim=-1)\n",
    "            pridict = []\n",
    "            for i in range(predictions.size(0)):\n",
    "                pred = predictions[i][attention_mask[i] == 1].tolist()\n",
    "                pridict.extend(pred)\n",
    "            return pridict"
   ]
  },
  {
   "cell_type": "code",
   "execution_count": 52,
   "id": "6a4ccafc",
   "metadata": {},
   "outputs": [
    {
     "name": "stderr",
     "output_type": "stream",
     "text": [
      "/data2/wrz/miniconda3/envs/dl/lib/python3.12/site-packages/transformers/optimization.py:591: FutureWarning: This implementation of AdamW is deprecated and will be removed in a future version. Use the PyTorch implementation torch.optim.AdamW instead, or set `no_deprecation_warning=True` to disable this warning\n",
      "  warnings.warn(\n"
     ]
    }
   ],
   "source": [
    "model = BiLSTM_CRF_NER(\n",
    "    vocab_size=vocab_size,\n",
    "    embedding_dim=128,\n",
    "    hidden_dim=256,\n",
    "    num_labels=len(tag2id),\n",
    "    use_bilstm=use_bilstm,\n",
    "    use_crf=use_crf\n",
    ")\n",
    "model.to(device)\n",
    "# 优化器和学习率调度器\n",
    "optimizer = AdamW(model.parameters(), lr=learning_rate)\n",
    "num_training_steps = len(train_loader) * epochs\n",
    "scheduler = get_linear_schedule_with_warmup(\n",
    "    optimizer,\n",
    "    num_warmup_steps=0,\n",
    "    num_training_steps=num_training_steps\n",
    ")\n"
   ]
  },
  {
   "cell_type": "code",
   "execution_count": 53,
   "id": "f3795150",
   "metadata": {},
   "outputs": [],
   "source": [
    "def evaluate_model(loader, dataset_type=\"Validation\", device=\"cuda\"):\n",
    "    model.eval()\n",
    "    true_labels = []\n",
    "    pred_labels = []\n",
    "\n",
    "    with torch.no_grad():\n",
    "        for batch in loader:\n",
    "            inputs = {key: val.to(device) for key, val in batch.items()}\n",
    "            outputs = model(**inputs)\n",
    "            emissions = outputs['logits']\n",
    "            mask = inputs['attention_mask'].bool()  # 获取有效的输入位置的mask\n",
    "            mask[inputs['labels'] == -100] = False  # CRF不支持-100标签\n",
    "            predictions = model.decode(emissions, mask)\n",
    "            for i in range(len(emissions)):\n",
    "                true_labels.extend(inputs['labels'][i][mask[i]].tolist())\n",
    "            pred_labels.extend(predictions)\n",
    "    report = classification_report(true_labels, pred_labels, target_names=[id2tag[i] for i in range(len(tag2id))], zero_division=0)\n",
    "    print(f\"{dataset_type} metrics:\\n{report}\")"
   ]
  },
  {
   "cell_type": "markdown",
   "id": "9491cd22",
   "metadata": {},
   "source": [
    "## BiLSTM + CRF"
   ]
  },
  {
   "cell_type": "code",
   "execution_count": 54,
   "id": "3959c6ff",
   "metadata": {},
   "outputs": [
    {
     "name": "stderr",
     "output_type": "stream",
     "text": [
      "Training Epoch 1: 100%|██████████| 2608/2608 [06:32<00:00,  6.64it/s]\n"
     ]
    },
    {
     "name": "stdout",
     "output_type": "stream",
     "text": [
      "Validation metrics:\n",
      "              precision    recall  f1-score   support\n",
      "\n",
      "           O       0.91      0.99      0.95    187557\n",
      "       B-ORG       0.00      0.00      0.00      2022\n",
      "       I-ORG       0.32      0.25      0.28      8587\n",
      "       B-PER       0.00      0.00      0.00      1794\n",
      "       I-PER       0.57      0.00      0.00      3509\n",
      "       B-LOC       0.00      0.00      0.00      3508\n",
      "       I-LOC       0.50      0.00      0.00      5002\n",
      "     <START>       0.93      1.00      0.96      4637\n",
      "       <END>       1.00      1.00      1.00      4637\n",
      "\n",
      "    accuracy                           0.89    221253\n",
      "   macro avg       0.47      0.36      0.35    221253\n",
      "weighted avg       0.84      0.89      0.86    221253\n",
      "\n"
     ]
    },
    {
     "name": "stderr",
     "output_type": "stream",
     "text": [
      "Training Epoch 2: 100%|██████████| 2608/2608 [06:31<00:00,  6.66it/s]\n"
     ]
    },
    {
     "name": "stdout",
     "output_type": "stream",
     "text": [
      "Validation metrics:\n",
      "              precision    recall  f1-score   support\n",
      "\n",
      "           O       0.93      0.99      0.96    187557\n",
      "       B-ORG       0.00      0.00      0.00      2022\n",
      "       I-ORG       0.32      0.40      0.35      8587\n",
      "       B-PER       0.00      0.00      0.00      1794\n",
      "       I-PER       0.65      0.00      0.01      3509\n",
      "       B-LOC       0.45      0.06      0.10      3508\n",
      "       I-LOC       0.38      0.06      0.10      5002\n",
      "     <START>       1.00      1.00      1.00      4637\n",
      "       <END>       0.99      1.00      1.00      4637\n",
      "\n",
      "    accuracy                           0.90    221253\n",
      "   macro avg       0.52      0.39      0.39    221253\n",
      "weighted avg       0.87      0.90      0.87    221253\n",
      "\n"
     ]
    },
    {
     "name": "stderr",
     "output_type": "stream",
     "text": [
      "Training Epoch 3: 100%|██████████| 2608/2608 [06:31<00:00,  6.66it/s]\n"
     ]
    },
    {
     "name": "stdout",
     "output_type": "stream",
     "text": [
      "Validation metrics:\n",
      "              precision    recall  f1-score   support\n",
      "\n",
      "           O       0.93      0.99      0.96    187557\n",
      "       B-ORG       0.62      0.02      0.04      2022\n",
      "       I-ORG       0.32      0.39      0.35      8587\n",
      "       B-PER       0.00      0.00      0.00      1794\n",
      "       I-PER       0.61      0.01      0.01      3509\n",
      "       B-LOC       0.43      0.12      0.19      3508\n",
      "       I-LOC       0.40      0.09      0.15      5002\n",
      "     <START>       1.00      1.00      1.00      4637\n",
      "       <END>       1.00      1.00      1.00      4637\n",
      "\n",
      "    accuracy                           0.90    221253\n",
      "   macro avg       0.59      0.40      0.41    221253\n",
      "weighted avg       0.88      0.90      0.88    221253\n",
      "\n",
      "Training complete.\n"
     ]
    }
   ],
   "source": [
    "# 训练模型\n",
    "model.to(device)\n",
    "test = True\n",
    "for epoch in range(epochs):\n",
    "    model.train()\n",
    "    for batch in tqdm(train_loader, desc=f\"Training Epoch {epoch+1}\"):\n",
    "        inputs = {key: val.to(device) for key, val in batch.items()}\n",
    "        outputs = model(**inputs)\n",
    "        loss = outputs['loss']\n",
    "        loss.backward()\n",
    "        \n",
    "        optimizer.step()\n",
    "        scheduler.step()\n",
    "        optimizer.zero_grad()\n",
    "    # 在每个epoch结束时评估验证集\n",
    "    evaluate_model(val_loader, \"Validation\", device)\n",
    "\n",
    "print(\"Training complete.\")"
   ]
  },
  {
   "cell_type": "code",
   "execution_count": 55,
   "id": "111dfb8a",
   "metadata": {},
   "outputs": [
    {
     "name": "stdout",
     "output_type": "stream",
     "text": [
      "Test metrics:\n",
      "              precision    recall  f1-score   support\n",
      "\n",
      "           O       0.94      0.99      0.96    150599\n",
      "       B-ORG       0.39      0.01      0.01      1302\n",
      "       I-ORG       0.26      0.36      0.30      5459\n",
      "       B-PER       0.00      0.00      0.00      1401\n",
      "       I-PER       0.35      0.00      0.01      2645\n",
      "       B-LOC       0.55      0.15      0.23      2850\n",
      "       I-LOC       0.56      0.11      0.19      4356\n",
      "     <START>       1.00      0.99      0.99      4365\n",
      "       <END>       0.99      0.99      0.99      4365\n",
      "\n",
      "    accuracy                           0.91    177342\n",
      "   macro avg       0.56      0.40      0.41    177342\n",
      "weighted avg       0.88      0.91      0.89    177342\n",
      "\n"
     ]
    }
   ],
   "source": [
    "# 测试模型\n",
    "evaluate_model(test_loader, \"Test\")"
   ]
  },
  {
   "cell_type": "markdown",
   "id": "09ede6a3",
   "metadata": {},
   "source": [
    "## BiLSTM + W/O CRF"
   ]
  },
  {
   "cell_type": "code",
   "execution_count": 56,
   "id": "05df3fac",
   "metadata": {},
   "outputs": [
    {
     "data": {
      "text/plain": [
       "BiLSTM_CRF_NER(\n",
       "  (embedding): Embedding(21128, 128, padding_idx=0)\n",
       "  (bilstm): LSTM(128, 256, num_layers=2, batch_first=True, dropout=0.1, bidirectional=True)\n",
       "  (dropout): Dropout(p=0.1, inplace=False)\n",
       "  (classifier): Linear(in_features=512, out_features=9, bias=True)\n",
       ")"
      ]
     },
     "execution_count": 56,
     "metadata": {},
     "output_type": "execute_result"
    }
   ],
   "source": [
    "use_crf = False  # 如果需要切换到不使用CRF的模型，可以设置为False\n",
    "model = BiLSTM_CRF_NER(\n",
    "    vocab_size=vocab_size,\n",
    "    embedding_dim=128,\n",
    "    hidden_dim=256,\n",
    "    num_labels=len(tag2id),\n",
    "    use_bilstm=use_bilstm,\n",
    "    use_crf=use_crf\n",
    ")\n",
    "model.to(device)"
   ]
  },
  {
   "cell_type": "code",
   "execution_count": 57,
   "id": "9af02bec",
   "metadata": {},
   "outputs": [
    {
     "name": "stderr",
     "output_type": "stream",
     "text": [
      "/data2/wrz/miniconda3/envs/dl/lib/python3.12/site-packages/transformers/optimization.py:591: FutureWarning: This implementation of AdamW is deprecated and will be removed in a future version. Use the PyTorch implementation torch.optim.AdamW instead, or set `no_deprecation_warning=True` to disable this warning\n",
      "  warnings.warn(\n"
     ]
    }
   ],
   "source": [
    "# 优化器和学习率调度器\n",
    "optimizer = AdamW(model.parameters(), lr=learning_rate)\n",
    "num_training_steps = len(train_loader) * epochs\n",
    "scheduler = get_linear_schedule_with_warmup(\n",
    "    optimizer,\n",
    "    num_warmup_steps=0,\n",
    "    num_training_steps=num_training_steps\n",
    ")"
   ]
  },
  {
   "cell_type": "code",
   "execution_count": 58,
   "id": "e7f48372",
   "metadata": {},
   "outputs": [
    {
     "name": "stderr",
     "output_type": "stream",
     "text": [
      "Training Epoch 1: 100%|██████████| 2608/2608 [01:29<00:00, 29.30it/s]\n"
     ]
    },
    {
     "name": "stdout",
     "output_type": "stream",
     "text": [
      "Validation metrics:\n",
      "              precision    recall  f1-score   support\n",
      "\n",
      "           O       0.92      0.99      0.95    187557\n",
      "       B-ORG       0.00      0.00      0.00      2022\n",
      "       I-ORG       0.31      0.32      0.32      8587\n",
      "       B-PER       1.00      0.00      0.00      1794\n",
      "       I-PER       0.00      0.00      0.00      3509\n",
      "       B-LOC       0.00      0.00      0.00      3508\n",
      "       I-LOC       0.00      0.00      0.00      5002\n",
      "     <START>       0.88      0.99      0.93      4637\n",
      "       <END>       0.98      1.00      0.99      4637\n",
      "\n",
      "    accuracy                           0.89    221253\n",
      "   macro avg       0.46      0.37      0.35    221253\n",
      "weighted avg       0.84      0.89      0.86    221253\n",
      "\n"
     ]
    },
    {
     "name": "stderr",
     "output_type": "stream",
     "text": [
      "Training Epoch 2: 100%|██████████| 2608/2608 [01:29<00:00, 29.26it/s]\n"
     ]
    },
    {
     "name": "stdout",
     "output_type": "stream",
     "text": [
      "Validation metrics:\n",
      "              precision    recall  f1-score   support\n",
      "\n",
      "           O       0.94      0.99      0.96    187557\n",
      "       B-ORG       0.39      0.00      0.01      2022\n",
      "       I-ORG       0.32      0.44      0.37      8587\n",
      "       B-PER       0.50      0.00      0.00      1794\n",
      "       I-PER       0.22      0.00      0.00      3509\n",
      "       B-LOC       0.45      0.10      0.17      3508\n",
      "       I-LOC       0.39      0.04      0.08      5002\n",
      "     <START>       0.99      1.00      1.00      4637\n",
      "       <END>       0.99      1.00      0.99      4637\n",
      "\n",
      "    accuracy                           0.90    221253\n",
      "   macro avg       0.58      0.40      0.40    221253\n",
      "weighted avg       0.87      0.90      0.88    221253\n",
      "\n"
     ]
    },
    {
     "name": "stderr",
     "output_type": "stream",
     "text": [
      "Training Epoch 3: 100%|██████████| 2608/2608 [01:29<00:00, 29.21it/s]\n"
     ]
    },
    {
     "name": "stdout",
     "output_type": "stream",
     "text": [
      "Validation metrics:\n",
      "              precision    recall  f1-score   support\n",
      "\n",
      "           O       0.94      0.99      0.96    187557\n",
      "       B-ORG       0.54      0.03      0.05      2022\n",
      "       I-ORG       0.33      0.41      0.37      8587\n",
      "       B-PER       0.50      0.00      0.00      1794\n",
      "       I-PER       0.25      0.00      0.00      3509\n",
      "       B-LOC       0.42      0.16      0.23      3508\n",
      "       I-LOC       0.38      0.08      0.13      5002\n",
      "     <START>       1.00      1.00      1.00      4637\n",
      "       <END>       0.99      1.00      0.99      4637\n",
      "\n",
      "    accuracy                           0.90    221253\n",
      "   macro avg       0.59      0.41      0.42    221253\n",
      "weighted avg       0.88      0.90      0.88    221253\n",
      "\n",
      "Training complete.\n"
     ]
    }
   ],
   "source": [
    "# 训练模型\n",
    "for epoch in range(epochs):\n",
    "    model.train()\n",
    "    for batch in tqdm(train_loader, desc=f\"Training Epoch {epoch+1}\"):\n",
    "        inputs = {key: val.to(device) for key, val in batch.items()}\n",
    "        outputs = model(**inputs)\n",
    "        loss = outputs['loss']\n",
    "        loss.backward()\n",
    "        \n",
    "        optimizer.step()\n",
    "        scheduler.step()\n",
    "        optimizer.zero_grad()\n",
    "    # 在每个epoch结束时评估验证集\n",
    "    evaluate_model(val_loader, \"Validation\", device)\n",
    "\n",
    "print(\"Training complete.\")"
   ]
  },
  {
   "cell_type": "code",
   "execution_count": 59,
   "id": "329fafad",
   "metadata": {},
   "outputs": [
    {
     "name": "stdout",
     "output_type": "stream",
     "text": [
      "Test metrics:\n",
      "              precision    recall  f1-score   support\n",
      "\n",
      "           O       0.94      0.99      0.97    150599\n",
      "       B-ORG       0.37      0.01      0.02      1302\n",
      "       I-ORG       0.27      0.38      0.31      5459\n",
      "       B-PER       1.00      0.00      0.00      1401\n",
      "       I-PER       0.32      0.00      0.00      2645\n",
      "       B-LOC       0.52      0.20      0.29      2850\n",
      "       I-LOC       0.53      0.09      0.15      4356\n",
      "     <START>       1.00      0.98      0.99      4365\n",
      "       <END>       0.98      0.99      0.98      4365\n",
      "\n",
      "    accuracy                           0.91    177342\n",
      "   macro avg       0.66      0.40      0.41    177342\n",
      "weighted avg       0.89      0.91      0.89    177342\n",
      "\n"
     ]
    }
   ],
   "source": [
    "# 测试模型\n",
    "evaluate_model(test_loader, \"Test\")"
   ]
  }
 ],
 "metadata": {
  "kernelspec": {
   "display_name": "dl",
   "language": "python",
   "name": "python3"
  },
  "language_info": {
   "codemirror_mode": {
    "name": "ipython",
    "version": 3
   },
   "file_extension": ".py",
   "mimetype": "text/x-python",
   "name": "python",
   "nbconvert_exporter": "python",
   "pygments_lexer": "ipython3",
   "version": "3.12.2"
  }
 },
 "nbformat": 4,
 "nbformat_minor": 5
}
