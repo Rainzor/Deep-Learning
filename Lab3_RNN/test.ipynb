{
 "cells": [
  {
   "cell_type": "code",
   "execution_count": 2,
   "metadata": {},
   "outputs": [],
   "source": [
    "import os\n",
    "import json\n",
    "import pytorch_lightning as pl\n",
    "from pytorch_lightning import Trainer\n",
    "from pytorch_lightning.callbacks import ModelCheckpoint\n",
    "\n",
    "import torch\n",
    "import torch.nn as nn\n",
    "import torch.optim as optim\n",
    "from torchmetrics.classification import Accuracy\n",
    "from torch.utils.data import Dataset, DataLoader\n",
    "\n",
    "from transformers import AutoTokenizer\n",
    "from dataclasses import dataclass, field\n",
    "from typing import List, Tuple\n",
    "from tqdm import tqdm\n",
    "\n",
    "\n",
    "data_dir = 'D:/ComputerScience/cs_2024_Fall_Deep_Learning/Lab/data/Yelp'"
   ]
  },
  {
   "cell_type": "code",
   "execution_count": 4,
   "metadata": {},
   "outputs": [
    {
     "name": "stdout",
     "output_type": "stream",
     "text": [
      "896\n"
     ]
    }
   ],
   "source": [
    "def read_json(file_path):\n",
    "        \"\"\"\n",
    "        Load training/test data from the specified directory\n",
    "        :param data_dir: Directory containing the data files\n",
    "        :param train: Whether to load the training data\n",
    "        :return: List of data instances\n",
    "        \"\"\"\n",
    "        word_counts = []\n",
    "        with open(file_path, 'r', encoding='utf-8') as f:\n",
    "            for line_num, line in enumerate(f, 1):\n",
    "                rdata = json.loads(line)\n",
    "                text = rdata.get('text', None)\n",
    "                star = rdata.get('stars', None)               \n",
    "                word_counts.append(len(text.split()))\n",
    "        return word_counts\n",
    "file_path = os.path.join(data_dir, 'test.json')\n",
    "word_counts = read_json(file_path)\n",
    "print(max(word_counts))"
   ]
  },
  {
   "cell_type": "code",
   "execution_count": 2,
   "metadata": {},
   "outputs": [],
   "source": [
    "# Define the data structure\n",
    "@dataclass\n",
    "class YelpData:\n",
    "    text: str\n",
    "    star: int\n",
    "\n",
    "class YelpDataset(Dataset):\n",
    "    def __init__(self, data_dir, tokenizer, train=True, max_length=512, reload_=False):\n",
    "        \"\"\"\n",
    "        Dataset constructor\n",
    "        :param data_dir: Directory of the data files\n",
    "        :param train: Whether to load training data\n",
    "        :param tokenizer_name: Name of the tokenizer to use\n",
    "        :param max_length: Maximum length for padding and truncation\n",
    "        \"\"\"\n",
    "        self.data_path = os.path.join(data_dir, 'train.json') if train else os.path.join(data_dir, 'test.json')\n",
    "        self.raw_data = self._read_json(self.data_path)\n",
    "        self.tokenizer = tokenizer\n",
    "        self.max_length = max_length\n",
    "        self.data = None\n",
    "        if reload_:\n",
    "            if train:\n",
    "                save_path = os.path.join(data_dir, 'train.pt')\n",
    "            else:\n",
    "                save_path = os.path.join(data_dir, 'test.pt')\n",
    "            if not os.path.exists(save_path):\n",
    "                print(\"Preprocessed data not found, preprocessing...\")\n",
    "                self.data = self._preprocess(self.raw_data)\n",
    "                torch.save(self.data, save_path)\n",
    "                print(f\"Preprocessed data saved to {save_path}\")\n",
    "            else:\n",
    "                self.data = torch.load(save_path)\n",
    "                print(f\"Preprocessed data loaded from {save_path}\")\n",
    "    \n",
    "    def _read_json(self, file_path):\n",
    "        \"\"\"\n",
    "        Load training/test data from the specified directory\n",
    "        :param data_dir: Directory containing the data files\n",
    "        :param train: Whether to load the training data\n",
    "        :return: List of data instances\n",
    "        \"\"\"\n",
    "        data = []\n",
    "        with open(file_path, 'r', encoding='utf-8') as f:\n",
    "            for line_num, line in enumerate(f, 1):\n",
    "                try:\n",
    "                    rdata = json.loads(line)\n",
    "                    text = rdata.get('text', None)\n",
    "                    star = rdata.get('stars', None)\n",
    "                    \n",
    "                    if text is not None and star is not None:\n",
    "                        data.append(YelpData(text=text, star=star))\n",
    "                    else:\n",
    "                        print(f\"{line_num} data is invalid\")\n",
    "                except json.JSONDecodeError as e:\n",
    "                    print(f\"Fails to decode line {line_num}\")\n",
    "        \n",
    "        return data\n",
    "    \n",
    "    def _preprocess(self, raw_data):\n",
    "        tokenizer_list = []\n",
    "        mask_list = []\n",
    "        label_list = []\n",
    "        with tqdm(total=len(raw_data), desc=\"Preprocessing data\") as pbar:\n",
    "            for review in raw_data:\n",
    "                text = review.text\n",
    "                label = review.star - 1 # Convert 1-5 to 0-4\n",
    "                \n",
    "                # Tokenize, pad and truncate the text\n",
    "                encoding = self.tokenizer(\n",
    "                    text,\n",
    "                    add_special_tokens=True,  # Add [CLS] and [SEP]\n",
    "                    truncation=True,  # Truncate text if it exceeds max_length\n",
    "                    padding='max_length',  # Pad text to max_length\n",
    "                    max_length=self.max_length,\n",
    "                    return_attention_mask=True,\n",
    "                    return_tensors='pt'  # Return PyTorch tensors\n",
    "                )\n",
    "                \n",
    "                tokenizer_list.append(encoding['input_ids'].squeeze(0))\n",
    "                mask_list.append(encoding['attention_mask'].squeeze(0))\n",
    "                label_list.append(torch.tensor(label, dtype=torch.long))\n",
    "                pbar.update(1)\n",
    "        \n",
    "        return {\n",
    "            'input_ids': torch.stack(tokenizer_list),\n",
    "            'attention_mask': torch.stack(mask_list),\n",
    "            'label': torch.stack(label_list)\n",
    "        }\n",
    "\n",
    "\n",
    "    def __len__(self):\n",
    "        return len(self.raw_data)\n",
    "    \n",
    "    def __getitem__(self, idx):\n",
    "        if self.data is None:\n",
    "            text = self.raw_data[idx].text\n",
    "            label = self.raw_data[idx].star\n",
    "            encoding = self.tokenizer(\n",
    "                text,\n",
    "                add_special_tokens=True,\n",
    "                truncation=True,\n",
    "                padding='max_length',\n",
    "                max_length=self.max_length,\n",
    "                return_attention_mask=True,\n",
    "                return_tensors='pt'\n",
    "            )\n",
    "            return {\n",
    "                'input_ids': encoding['input_ids'].squeeze(0),\n",
    "                'attention_mask': encoding['attention_mask'].squeeze(0),\n",
    "                'label': torch.tensor(label, dtype=torch.long)\n",
    "            }\n",
    "        else:\n",
    "            input_ids = self.data['input_ids'][idx]\n",
    "            attention_mask = self.data['attention_mask'][idx]\n",
    "            label = self.data['label'][idx]\n",
    "            return {\n",
    "                'input_ids': input_ids,\n",
    "                'attention_mask': attention_mask,\n",
    "                'label': torch.tensor(label, dtype=torch.long)\n",
    "            }\n"
   ]
  },
  {
   "cell_type": "code",
   "execution_count": 3,
   "metadata": {},
   "outputs": [
    {
     "name": "stdout",
     "output_type": "stream",
     "text": [
      "Preprocessed data not found, preprocessing...\n"
     ]
    },
    {
     "name": "stderr",
     "output_type": "stream",
     "text": [
      "Preprocessing data: 100%|██████████| 229907/229907 [01:39<00:00, 2301.60it/s]\n"
     ]
    },
    {
     "name": "stdout",
     "output_type": "stream",
     "text": [
      "Preprocessed data saved to D:/ComputerScience/cs_2024_Fall_Deep_Learning/Lab/data/Yelp\\train.pt\n",
      "Number of training samples: 229907\n",
      "Preprocessed data not found, preprocessing...\n"
     ]
    },
    {
     "name": "stderr",
     "output_type": "stream",
     "text": [
      "Preprocessing data: 100%|██████████| 1000/1000 [00:00<00:00, 2240.03it/s]"
     ]
    },
    {
     "name": "stdout",
     "output_type": "stream",
     "text": [
      "Preprocessed data saved to D:/ComputerScience/cs_2024_Fall_Deep_Learning/Lab/data/Yelp\\test.pt\n",
      "Number of test samples: 1000\n"
     ]
    },
    {
     "name": "stderr",
     "output_type": "stream",
     "text": [
      "\n"
     ]
    }
   ],
   "source": [
    "tokenizer = AutoTokenizer.from_pretrained('google-bert/bert-base-uncased')\n",
    "train_dataset = YelpDataset(data_dir, tokenizer, reload_=True)\n",
    "print(f\"Number of training samples: {len(train_dataset)}\")\n",
    "test_dataset = YelpDataset(data_dir, tokenizer, train=False, reload_=True)\n",
    "print(f\"Number of test samples: {len(test_dataset)}\")"
   ]
  },
  {
   "cell_type": "code",
   "execution_count": 4,
   "metadata": {},
   "outputs": [
    {
     "name": "stderr",
     "output_type": "stream",
     "text": [
      "C:\\Users\\runze\\AppData\\Local\\Temp\\ipykernel_22576\\1163981945.py:119: UserWarning: To copy construct from a tensor, it is recommended to use sourceTensor.clone().detach() or sourceTensor.clone().detach().requires_grad_(True), rather than torch.tensor(sourceTensor).\n",
      "  'label': torch.tensor(label, dtype=torch.long)\n"
     ]
    },
    {
     "data": {
      "image/png": "[encoded data removed]",
      "text/plain": [
       "<Figure size 640x480 with 1 Axes>"
      ]
     },
     "metadata": {},
     "output_type": "display_data"
    }
   ],
   "source": [
    "stars = [data['label']+1 for data in train_dataset]\n",
    "import matplotlib.pyplot as plt\n",
    "plt.hist(stars, bins=5)\n",
    "plt.xlabel('Stars')\n",
    "plt.ylabel('Count')\n",
    "plt.title('Distribution of Stars in Training Data')\n",
    "plt.show()"
   ]
  },
  {
   "cell_type": "code",
   "execution_count": 5,
   "metadata": {},
   "outputs": [],
   "source": [
    "spilt_ratio = 0.8\n",
    "train_size = int(spilt_ratio * len(train_dataset))\n",
    "valid_size = len(train_dataset) - train_size\n",
    "train_dataset, valid_dataset = torch.utils.data.random_split(train_dataset, [train_size, valid_size])"
   ]
  },
  {
   "cell_type": "code",
   "execution_count": 7,
   "metadata": {},
   "outputs": [],
   "source": [
    "train_loader = DataLoader(train_dataset, batch_size=8, shuffle=True, num_workers=4)\n",
    "valid_loader = DataLoader(valid_dataset, batch_size=8, shuffle=False, num_workers=4)\n",
    "test_loader = DataLoader(test_dataset, batch_size=8, shuffle=False, num_workers=4)"
   ]
  },
  {
   "cell_type": "code",
   "execution_count": 8,
   "metadata": {},
   "outputs": [],
   "source": [
    "@dataclass\n",
    "class Config:\n",
    "    embedding_dim: int\n",
    "    hidden_dim: int\n",
    "    output_dim: int\n",
    "    n_layers: int\n",
    "    dropout: float\n",
    "    batch_size: int\n",
    "    learning_rate: float\n",
    "    max_length: int\n",
    "    epochs: int\n",
    "\n",
    "\n",
    "config = Config(\n",
    "    embedding_dim=128,\n",
    "    hidden_dim=128,\n",
    "    output_dim=5,\n",
    "    n_layers=2,\n",
    "    dropout=0.5,\n",
    "    batch_size=8,\n",
    "    learning_rate=1e-3,\n",
    "    max_length=512,\n",
    "    epochs=5\n",
    ")\n"
   ]
  },
  {
   "cell_type": "code",
   "execution_count": 9,
   "metadata": {},
   "outputs": [
    {
     "ename": "NameError",
     "evalue": "name 'LightningModule' is not defined",
     "output_type": "error",
     "traceback": [
      "\u001b[1;31m---------------------------------------------------------------------------\u001b[0m",
      "\u001b[1;31mNameError\u001b[0m                                 Traceback (most recent call last)",
      "Cell \u001b[1;32mIn[9], line 18\u001b[0m\n\u001b[0;32m     14\u001b[0m         output \u001b[38;5;241m=\u001b[39m \u001b[38;5;28mself\u001b[39m\u001b[38;5;241m.\u001b[39mfc(hidden)\n\u001b[0;32m     15\u001b[0m         \u001b[38;5;28;01mreturn\u001b[39;00m output\n\u001b[1;32m---> 18\u001b[0m \u001b[38;5;28;01mclass\u001b[39;00m \u001b[38;5;21;01mTextRNNLightning\u001b[39;00m(\u001b[43mLightningModule\u001b[49m):\n\u001b[0;32m     19\u001b[0m     \u001b[38;5;28;01mdef\u001b[39;00m \u001b[38;5;21m__init__\u001b[39m(\u001b[38;5;28mself\u001b[39m, config, model\u001b[38;5;241m=\u001b[39m\u001b[38;5;28;01mNone\u001b[39;00m):\n\u001b[0;32m     20\u001b[0m         \u001b[38;5;28msuper\u001b[39m(TextRNNLightning, \u001b[38;5;28mself\u001b[39m)\u001b[38;5;241m.\u001b[39m\u001b[38;5;21m__init__\u001b[39m()\n",
      "\u001b[1;31mNameError\u001b[0m: name 'LightningModule' is not defined"
     ]
    }
   ],
   "source": [
    "class TextRNN(nn.Module):\n",
    "    def __init__(self, config):\n",
    "        super(TextRNN, self).__init__()\n",
    "\n",
    "        self.embedding = nn.Embedding(config.vocab_size, config.embedding_dim)\n",
    "        self.rnn = nn.RNN(config.embedding_dim, config.hidden_dim, num_layers=config.n_layers, dropout=config.dropout, batch_first=True)\n",
    "        self.fc = nn.Linear(config.hidden_dim, config.output_dim)\n",
    "        self.dropout = nn.Dropout(config.dropout)\n",
    "\n",
    "    def forward(self, input_ids, attention_mask):\n",
    "        embedded = self.embedding(input_ids)\n",
    "        rnn_out, hidden = self.rnn(embedded)\n",
    "        hidden = self.dropout(hidden[-1])  # Last hidden state\n",
    "        output = self.fc(hidden)\n",
    "        return output\n",
    "\n",
    "\n",
    "class TextRNNLightning(LightningModule):\n",
    "    def __init__(self, config, model=None):\n",
    "        super(TextRNNLightning, self).__init__()\n",
    "        self.save_hyperparameters(ignore='model')\n",
    "        self.config = config\n",
    "        self.model = model if model else TextRNN(config)\n",
    "\n",
    "    def forward(self, input_ids, attention_mask):\n",
    "        return self.model(input_ids, attention_mask)\n",
    "\n",
    "    def training_step(self, batch, batch_idx):\n",
    "        input_ids = batch['input_ids']\n",
    "        attention_mask = batch['attention_mask']\n",
    "        labels = batch['label']\n",
    "\n",
    "        outputs = self(input_ids, attention_mask)\n",
    "        loss = F.cross_entropy(outputs, labels)\n",
    "        return loss\n",
    "\n",
    "    def validation_step(self, batch, batch_idx):\n",
    "        input_ids = batch['input_ids']\n",
    "        attention_mask = batch['attention_mask']\n",
    "        labels = batch['label']\n",
    "\n",
    "        outputs = self(input_ids, attention_mask)\n",
    "        loss = F.cross_entropy(outputs, labels)\n",
    "        return loss\n",
    "\n",
    "    def configure_optimizers(self):\n",
    "        optimizer = optim.Adam(self.model.parameters(), lr=self.config.learning_rate)\n",
    "        return optimizer\n"
   ]
  }
 ],
 "metadata": {
  "kernelspec": {
   "display_name": "dl",
   "language": "python",
   "name": "python3"
  },
  "language_info": {
   "codemirror_mode": {
    "name": "ipython",
    "version": 3
   },
   "file_extension": ".py",
   "mimetype": "text/x-python",
   "name": "python",
   "nbconvert_exporter": "python",
   "pygments_lexer": "ipython3",
   "version": "3.12.7"
  }
 },
 "nbformat": 4,
 "nbformat_minor": 2
}
