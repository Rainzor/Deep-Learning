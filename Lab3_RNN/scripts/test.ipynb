{
 "cells": [
  {
   "cell_type": "code",
   "execution_count": 15,
   "metadata": {},
   "outputs": [],
   "source": [
    "import os\n",
    "import json\n",
    "import pytorch_lightning as pl\n",
    "from pytorch_lightning import Trainer\n",
    "from pytorch_lightning.callbacks import ModelCheckpoint\n",
    "import torchmetrics\n",
    "\n",
    "import torch\n",
    "import torch.nn as nn\n",
    "import torch.optim as optim\n",
    "from torchmetrics.classification import Accuracy\n",
    "from torch.utils.data import Dataset, DataLoader\n",
    "\n",
    "from transformers import AutoTokenizer\n",
    "from dataclasses import dataclass, field\n",
    "from typing import List, Tuple\n",
    "from tqdm import tqdm\n",
    "import time\n",
    "from models.utils import *\n",
    "from models.model import CustomRNNClassifier, RNNClassifier, TransformerClassifier\n",
    "\n",
    "data_dir = 'D:/ComputerScience/cs_2024_Fall_Deep_Learning/Lab/data/Yelp'"
   ]
  },
  {
   "cell_type": "code",
   "execution_count": 2,
   "metadata": {},
   "outputs": [
    {
     "name": "stdout",
     "output_type": "stream",
     "text": [
      "1006\n"
     ]
    }
   ],
   "source": [
    "def read_json(file_path):\n",
    "        \"\"\"\n",
    "        Load training/test data from the specified directory\n",
    "        :param data_dir: Directory containing the data files\n",
    "        :param train: Whether to load the training data\n",
    "        :return: List of data instances\n",
    "        \"\"\"\n",
    "        word_counts = []\n",
    "        with open(file_path, 'r', encoding='utf-8') as f:\n",
    "            for line_num, line in enumerate(f, 1):\n",
    "                rdata = json.loads(line)\n",
    "                text = rdata.get('text', None)\n",
    "                star = rdata.get('stars', None)               \n",
    "                word_counts.append(len(text.split()))\n",
    "        return word_counts\n",
    "file_path = os.path.join(data_dir, 'train.json')\n",
    "word_counts = read_json(file_path)\n",
    "print(max(word_counts))"
   ]
  },
  {
   "cell_type": "code",
   "execution_count": 3,
   "metadata": {},
   "outputs": [
    {
     "data": {
      "image/png": "[encoded data removed]",
      "text/plain": [
       "<Figure size 640x480 with 1 Axes>"
      ]
     },
     "metadata": {},
     "output_type": "display_data"
    },
    {
     "name": "stdout",
     "output_type": "stream",
     "text": [
      "sizes of reviews: 229907\n",
      "max length of review: 1006\n",
      "min length of review: 0\n",
      "average length of review: 130.6026088809823\n",
      "median length of review: 100\n"
     ]
    }
   ],
   "source": [
    "import matplotlib.pyplot as plt\n",
    "plt.hist(word_counts, bins=range(0, 1000, 50))\n",
    "plt.xlabel('Number of words')\n",
    "plt.ylabel('Frequency')\n",
    "plt.title('Histogram of number of words in Yelp reviews(train)')\n",
    "plt.show()\n",
    "print(\"sizes of reviews:\", len(word_counts))\n",
    "print('max length of review:', max(word_counts))\n",
    "print('min length of review:', min(word_counts))\n",
    "print('average length of review:', sum(word_counts)/len(word_counts))\n",
    "print('median length of review:', sorted(word_counts)[len(word_counts)//2])\n"
   ]
  },
  {
   "cell_type": "code",
   "execution_count": 3,
   "metadata": {},
   "outputs": [],
   "source": [
    "# Define the data structure\n",
    "@dataclass\n",
    "class YelpData:\n",
    "    text: str\n",
    "    star: int\n",
    "\n",
    "class YelpDataset(Dataset):\n",
    "    def __init__(self, data_dir, tokenizer, train=True, max_length=512, reload_=False):\n",
    "        \"\"\"\n",
    "        Dataset constructor\n",
    "        :param data_dir: Directory of the data files\n",
    "        :param train: Whether to load training data\n",
    "        :param tokenizer_name: Name of the tokenizer to use\n",
    "        :param max_length: Maximum length for padding and truncation\n",
    "        \"\"\"\n",
    "        self.data_path = os.path.join(data_dir, 'train.json') if train else os.path.join(data_dir, 'test.json')\n",
    "        self.raw_data = self._read_json(self.data_path)\n",
    "        self.tokenizer = tokenizer\n",
    "        self.max_length = max_length\n",
    "        self.data = None\n",
    "        if reload_:\n",
    "            if train:\n",
    "                save_path = os.path.join(data_dir, 'train.pt')\n",
    "            else:\n",
    "                save_path = os.path.join(data_dir, 'test.pt')\n",
    "            if not os.path.exists(save_path):\n",
    "                print(\"Preprocessed data not found, preprocessing...\")\n",
    "                self.data = self._preprocess(self.raw_data)\n",
    "                torch.save(self.data, save_path)\n",
    "                print(f\"Preprocessed data saved to {save_path}\")\n",
    "            else:\n",
    "                self.data = torch.load(save_path)\n",
    "                print(f\"Preprocessed data loaded from {save_path}\")\n",
    "    \n",
    "    def _read_json(self, file_path):\n",
    "        \"\"\"\n",
    "        Load training/test data from the specified directory\n",
    "        :param data_dir: Directory containing the data files\n",
    "        :param train: Whether to load the training data\n",
    "        :return: List of data instances\n",
    "        \"\"\"\n",
    "        data = []\n",
    "        with open(file_path, 'r', encoding='utf-8') as f:\n",
    "            for line_num, line in enumerate(f, 1):\n",
    "                try:\n",
    "                    rdata = json.loads(line)\n",
    "                    text = rdata.get('text', None)\n",
    "                    star = rdata.get('stars', None)\n",
    "                    \n",
    "                    if text is not None and star is not None:\n",
    "                        data.append(YelpData(text=text, star=star))\n",
    "                    else:\n",
    "                        print(f\"{line_num} data is invalid\")\n",
    "                except json.JSONDecodeError as e:\n",
    "                    print(f\"Fails to decode line {line_num}\")\n",
    "        \n",
    "        return data\n",
    "    \n",
    "    def _preprocess(self, raw_data):\n",
    "        tokenizer_list = []\n",
    "        mask_list = []\n",
    "        label_list = []\n",
    "        with tqdm(total=len(raw_data), desc=\"Preprocessing data\") as pbar:\n",
    "            for review in raw_data:\n",
    "                text = review.text\n",
    "                label = review.star - 1 # Convert 1-5 to 0-4\n",
    "                \n",
    "                # Tokenize, pad and truncate the text\n",
    "                encoding = self.tokenizer(\n",
    "                    text,\n",
    "                    add_special_tokens=True,  # Add [CLS] and [SEP]\n",
    "                    truncation=True,  # Truncate text if it exceeds max_length\n",
    "                    padding='max_length',  # Pad text to max_length\n",
    "                    max_length=self.max_length,\n",
    "                    return_attention_mask=True,\n",
    "                    return_tensors='pt'  # Return PyTorch tensors\n",
    "                )\n",
    "                \n",
    "                tokenizer_list.append(encoding['input_ids'].squeeze(0))\n",
    "                mask_list.append(encoding['attention_mask'].squeeze(0))\n",
    "                label_list.append(torch.tensor(label, dtype=torch.long))\n",
    "                pbar.update(1)\n",
    "        \n",
    "        return {\n",
    "            'input_ids': torch.stack(tokenizer_list),\n",
    "            'attention_mask': torch.stack(mask_list),\n",
    "            'label': torch.stack(label_list)\n",
    "        }\n",
    "\n",
    "\n",
    "    def __len__(self):\n",
    "        return len(self.raw_data)\n",
    "    \n",
    "    def __getitem__(self, idx):\n",
    "        if self.data is None:\n",
    "            text = self.raw_data[idx].text\n",
    "            label = self.raw_data[idx].star\n",
    "            encoding = self.tokenizer(\n",
    "                text,\n",
    "                add_special_tokens=True,\n",
    "                truncation=True,\n",
    "                padding='max_length',\n",
    "                max_length=self.max_length,\n",
    "                return_attention_mask=True,\n",
    "                return_tensors='pt'\n",
    "            )\n",
    "            return {\n",
    "                'input_ids': encoding['input_ids'].squeeze(0),\n",
    "                'attention_mask': encoding['attention_mask'].squeeze(0),\n",
    "                'label': torch.tensor(label, dtype=torch.long)\n",
    "            }\n",
    "        else:\n",
    "            input_ids = self.data['input_ids'][idx]\n",
    "            attention_mask = self.data['attention_mask'][idx]\n",
    "            label = self.data['label'][idx]\n",
    "            return {\n",
    "                'input_ids': input_ids,\n",
    "                'attention_mask': attention_mask,\n",
    "                'label': torch.tensor(label, dtype=torch.long)\n",
    "            }\n"
   ]
  },
  {
   "cell_type": "code",
   "execution_count": 4,
   "metadata": {},
   "outputs": [
    {
     "name": "stderr",
     "output_type": "stream",
     "text": [
      "C:\\Users\\runze\\AppData\\Local\\Temp\\ipykernel_6936\\1163981945.py:32: FutureWarning: You are using `torch.load` with `weights_only=False` (the current default value), which uses the default pickle module implicitly. It is possible to construct malicious pickle data which will execute arbitrary code during unpickling (See https://github.com/pytorch/pytorch/blob/main/SECURITY.md#untrusted-models for more details). In a future release, the default value for `weights_only` will be flipped to `True`. This limits the functions that could be executed during unpickling. Arbitrary objects will no longer be allowed to be loaded via this mode unless they are explicitly allowlisted by the user via `torch.serialization.add_safe_globals`. We recommend you start setting `weights_only=True` for any use case where you don't have full control of the loaded file. Please open an issue on GitHub for any issues related to this experimental feature.\n",
      "  self.data = torch.load(save_path)\n"
     ]
    },
    {
     "name": "stdout",
     "output_type": "stream",
     "text": [
      "Preprocessed data loaded from D:/ComputerScience/cs_2024_Fall_Deep_Learning/Lab/data/Yelp\\train.pt\n",
      "Number of training samples: 229907\n",
      "Preprocessed data loaded from D:/ComputerScience/cs_2024_Fall_Deep_Learning/Lab/data/Yelp\\test.pt\n",
      "Number of test samples: 1000\n"
     ]
    }
   ],
   "source": [
    "tokenizer = AutoTokenizer.from_pretrained('google-bert/bert-base-uncased')\n",
    "train_dataset = YelpDataset(data_dir, tokenizer, reload_=True)\n",
    "print(f\"Number of training samples: {len(train_dataset)}\")\n",
    "test_dataset = YelpDataset(data_dir, tokenizer, train=False, reload_=True)\n",
    "print(f\"Number of test samples: {len(test_dataset)}\")"
   ]
  },
  {
   "cell_type": "code",
   "execution_count": 5,
   "metadata": {},
   "outputs": [
    {
     "name": "stdout",
     "output_type": "stream",
     "text": [
      "My wife took me here on my birthday for breakfast and it was excellent.  The weather was perfect which made sitting outside overlooking their grounds an absolute pleasure.  Our waitress was excellent and our food arrived quickly on the semi-busy Saturday morning.  It looked like the place fills up pretty quickly so the earlier you get here the better.\n",
      "\n",
      "Do yourself a favor and get their Bloody Mary.  It was phenomenal and simply the best I've ever had.  I'm pretty sure they only use ingredients from their garden and blend them fresh when you order it.  It was amazing.\n",
      "\n",
      "While EVERYTHING on the menu looks excellent, I had the white truffle scrambled eggs vegetable skillet and it was tasty and delicious.  It came with 2 pieces of their griddled bread with was amazing and it absolutely made the meal complete.  It was the best \"toast\" I've ever had.\n",
      "\n",
      "Anyway, I can't wait to go back!\n",
      "155\n"
     ]
    }
   ],
   "source": [
    "raw0 = train_dataset.raw_data[0].text\n",
    "print(raw0)\n",
    "print(len(raw0.split()))"
   ]
  },
  {
   "cell_type": "code",
   "execution_count": 9,
   "metadata": {},
   "outputs": [
    {
     "name": "stdout",
     "output_type": "stream",
     "text": [
      "tensor([[ 2026,  2564,  2165,  2033,  2182,  2006,  2026,  5798,  2005,  6350,\n",
      "          1998,  2009,  2001,  6581,  1012,  1996,  4633,  2001,  3819,  2029,\n",
      "          2081,  3564,  2648, 12549,  2037,  5286,  2019,  7619,  5165,  1012,\n",
      "          2256, 13877,  2001,  6581,  1998,  2256,  2833,  3369,  2855,  2006,\n",
      "          1996,  4100,  1011,  5697,  5095,  2851,  1012,  2009,  2246,  2066,\n",
      "          1996,  2173, 17469,  2039,  3492,  2855,  2061,  1996,  3041,  2017,\n",
      "          2131,  2182,  1996,  2488,  1012,  2079,  4426,  1037,  5684,  1998,\n",
      "          2131,  2037,  6703,  2984,  1012,  2009,  2001, 13352,  2140,  1998,\n",
      "          3432,  1996,  2190,  1045,  1005,  2310,  2412,  2018,  1012,  1045,\n",
      "          1005,  1049,  3492,  2469,  2027,  2069,  2224, 12760,  2013,  2037,\n",
      "          3871,  1998, 12586,  2068,  4840,  2043,  2017,  2344,  2009,  1012,\n",
      "          2009,  2001,  6429,  1012,  2096,  2673,  2006,  1996, 12183,  3504,\n",
      "          6581,  1010,  1045,  2018,  1996,  2317, 19817, 16093, 21031, 13501,\n",
      "          6763, 15415,  8066,  3388,  1998,  2009,  2001, 11937, 21756,  1998,\n",
      "         12090,  1012,  2009,  2234,  2007,  1016,  4109,  1997,  2037,  8370,\n",
      "         20043,  7852,  2007,  2001,  6429,  1998,  2009,  7078,  2081,  1996,\n",
      "          7954,  3143,  1012,  2009,  2001,  1996,  2190,  1000, 15174,  1000,\n",
      "          1045,  1005,  2310,  2412,  2018,  1012,  4312,  1010,  1045,  2064,\n",
      "          1005,  1056,  3524,  2000,  2175,  2067,   999,     0,     0,     0,\n",
      "             0,     0,     0,     0,     0,     0,     0,     0,     0,     0,\n",
      "             0,     0,     0,     0,     0,     0,     0,     0,     0,     0,\n",
      "             0,     0,     0,     0,     0,     0,     0,     0,     0,     0,\n",
      "             0,     0,     0,     0,     0,     0,     0,     0,     0,     0,\n",
      "             0,     0,     0,     0,     0,     0,     0,     0,     0,     0,\n",
      "             0,     0,     0,     0,     0,     0,     0,     0,     0,     0,\n",
      "             0,     0,     0,     0,     0,     0,     0,     0,     0,     0,\n",
      "             0,     0,     0,     0,     0,     0,     0,     0,     0,     0,\n",
      "             0,     0,     0,     0,     0,     0,     0,     0,     0,     0,\n",
      "             0,     0,     0,     0,     0,     0,     0,     0,     0,     0,\n",
      "             0,     0,     0,     0,     0,     0,     0,     0,     0,     0,\n",
      "             0,     0,     0,     0,     0,     0,     0,     0,     0,     0,\n",
      "             0,     0,     0,     0,     0,     0,     0,     0,     0,     0,\n",
      "             0,     0,     0,     0,     0,     0,     0,     0,     0,     0,\n",
      "             0,     0,     0,     0,     0,     0,     0,     0,     0,     0,\n",
      "             0,     0,     0,     0,     0,     0,     0,     0,     0,     0,\n",
      "             0,     0,     0,     0,     0,     0,     0,     0,     0,     0,\n",
      "             0,     0,     0,     0,     0,     0,     0,     0,     0,     0,\n",
      "             0,     0,     0,     0,     0,     0,     0,     0,     0,     0,\n",
      "             0,     0,     0,     0,     0,     0,     0,     0,     0,     0,\n",
      "             0,     0,     0,     0,     0,     0,     0,     0,     0,     0,\n",
      "             0,     0,     0,     0,     0,     0,     0,     0,     0,     0,\n",
      "             0,     0,     0,     0,     0,     0,     0,     0,     0,     0,\n",
      "             0,     0,     0,     0,     0,     0,     0,     0,     0,     0,\n",
      "             0,     0,     0,     0,     0,     0,     0,     0,     0,     0,\n",
      "             0,     0,     0,     0,     0,     0,     0,     0,     0,     0,\n",
      "             0,     0,     0,     0,     0,     0,     0,     0,     0,     0,\n",
      "             0,     0,     0,     0,     0,     0,     0,     0,     0,     0,\n",
      "             0,     0,     0,     0,     0,     0,     0,     0,     0,     0,\n",
      "             0,     0,     0,     0,     0,     0,     0,     0,     0,     0,\n",
      "             0,     0,     0,     0,     0,     0,     0,     0,     0,     0,\n",
      "             0,     0,     0,     0,     0,     0,     0,     0,     0,     0,\n",
      "             0,     0]])\n",
      "torch.Size([1, 512])\n",
      "['my', 'wife', 'took', 'me', 'here', 'on', 'my', 'birthday', 'for', 'breakfast', 'and', 'it', 'was', 'excellent', '.', 'the', 'weather', 'was', 'perfect', 'which', 'made', 'sitting', 'outside', 'overlooking', 'their', 'grounds', 'an', 'absolute', 'pleasure', '.', 'our', 'waitress', 'was', 'excellent', 'and', 'our', 'food', 'arrived', 'quickly', 'on', 'the', 'semi', '-', 'busy', 'saturday', 'morning', '.', 'it', 'looked', 'like', 'the', 'place', 'fills', 'up', 'pretty', 'quickly', 'so', 'the', 'earlier', 'you', 'get', 'here', 'the', 'better', '.', 'do', 'yourself', 'a', 'favor', 'and', 'get', 'their', 'bloody', 'mary', '.', 'it', 'was', 'phenomena', '##l', 'and', 'simply', 'the', 'best', 'i', \"'\", 've', 'ever', 'had', '.', 'i', \"'\", 'm', 'pretty', 'sure', 'they', 'only', 'use', 'ingredients', 'from', 'their', 'garden', 'and', 'blend', 'them', 'fresh', 'when', 'you', 'order', 'it', '.', 'it', 'was', 'amazing', '.', 'while', 'everything', 'on', 'the', 'menu', 'looks', 'excellent', ',', 'i', 'had', 'the', 'white', 'tr', '##uf', '##fle', 'scrambled', 'eggs', 'vegetable', 'skill', '##et', 'and', 'it', 'was', 'ta', '##sty', 'and', 'delicious', '.', 'it', 'came', 'with', '2', 'pieces', 'of', 'their', 'grid', '##dled', 'bread', 'with', 'was', 'amazing', 'and', 'it', 'absolutely', 'made', 'the', 'meal', 'complete', '.', 'it', 'was', 'the', 'best', '\"', 'toast', '\"', 'i', \"'\", 've', 'ever', 'had', '.', 'anyway', ',', 'i', 'can', \"'\", 't', 'wait', 'to', 'go', 'back', '!', '[PAD]', '[PAD]', '[PAD]', '[PAD]', '[PAD]', '[PAD]', '[PAD]', '[PAD]', '[PAD]', '[PAD]', '[PAD]', '[PAD]', '[PAD]', '[PAD]', '[PAD]', '[PAD]', '[PAD]', '[PAD]', '[PAD]', '[PAD]', '[PAD]', '[PAD]', '[PAD]', '[PAD]', '[PAD]', '[PAD]', '[PAD]', '[PAD]', '[PAD]', '[PAD]', '[PAD]', '[PAD]', '[PAD]', '[PAD]', '[PAD]', '[PAD]', '[PAD]', '[PAD]', '[PAD]', '[PAD]', '[PAD]', '[PAD]', '[PAD]', '[PAD]', '[PAD]', '[PAD]', '[PAD]', '[PAD]', '[PAD]', '[PAD]', '[PAD]', '[PAD]', '[PAD]', '[PAD]', '[PAD]', '[PAD]', '[PAD]', '[PAD]', '[PAD]', '[PAD]', '[PAD]', '[PAD]', '[PAD]', '[PAD]', '[PAD]', '[PAD]', '[PAD]', '[PAD]', '[PAD]', '[PAD]', '[PAD]', '[PAD]', '[PAD]', '[PAD]', '[PAD]', '[PAD]', '[PAD]', '[PAD]', '[PAD]', '[PAD]', '[PAD]', '[PAD]', '[PAD]', '[PAD]', '[PAD]', '[PAD]', '[PAD]', '[PAD]', '[PAD]', '[PAD]', '[PAD]', '[PAD]', '[PAD]', '[PAD]', '[PAD]', '[PAD]', '[PAD]', '[PAD]', '[PAD]', '[PAD]', '[PAD]', '[PAD]', '[PAD]', '[PAD]', '[PAD]', '[PAD]', '[PAD]', '[PAD]', '[PAD]', '[PAD]', '[PAD]', '[PAD]', '[PAD]', '[PAD]', '[PAD]', '[PAD]', '[PAD]', '[PAD]', '[PAD]', '[PAD]', '[PAD]', '[PAD]', '[PAD]', '[PAD]', '[PAD]', '[PAD]', '[PAD]', '[PAD]', '[PAD]', '[PAD]', '[PAD]', '[PAD]', '[PAD]', '[PAD]', '[PAD]', '[PAD]', '[PAD]', '[PAD]', '[PAD]', '[PAD]', '[PAD]', '[PAD]', '[PAD]', '[PAD]', '[PAD]', '[PAD]', '[PAD]', '[PAD]', '[PAD]', '[PAD]', '[PAD]', '[PAD]', '[PAD]', '[PAD]', '[PAD]', '[PAD]', '[PAD]', '[PAD]', '[PAD]', '[PAD]', '[PAD]', '[PAD]', '[PAD]', '[PAD]', '[PAD]', '[PAD]', '[PAD]', '[PAD]', '[PAD]', '[PAD]', '[PAD]', '[PAD]', '[PAD]', '[PAD]', '[PAD]', '[PAD]', '[PAD]', '[PAD]', '[PAD]', '[PAD]', '[PAD]', '[PAD]', '[PAD]', '[PAD]', '[PAD]', '[PAD]', '[PAD]', '[PAD]', '[PAD]', '[PAD]', '[PAD]', '[PAD]', '[PAD]', '[PAD]', '[PAD]', '[PAD]', '[PAD]', '[PAD]', '[PAD]', '[PAD]', '[PAD]', '[PAD]', '[PAD]', '[PAD]', '[PAD]', '[PAD]', '[PAD]', '[PAD]', '[PAD]', '[PAD]', '[PAD]', '[PAD]', '[PAD]', '[PAD]', '[PAD]', '[PAD]', '[PAD]', '[PAD]', '[PAD]', '[PAD]', '[PAD]', '[PAD]', '[PAD]', '[PAD]', '[PAD]', '[PAD]', '[PAD]', '[PAD]', '[PAD]', '[PAD]', '[PAD]', '[PAD]', '[PAD]', '[PAD]', '[PAD]', '[PAD]', '[PAD]', '[PAD]', '[PAD]', '[PAD]', '[PAD]', '[PAD]', '[PAD]', '[PAD]', '[PAD]', '[PAD]', '[PAD]', '[PAD]', '[PAD]', '[PAD]', '[PAD]', '[PAD]', '[PAD]', '[PAD]', '[PAD]', '[PAD]', '[PAD]', '[PAD]', '[PAD]', '[PAD]', '[PAD]', '[PAD]', '[PAD]', '[PAD]', '[PAD]', '[PAD]', '[PAD]', '[PAD]', '[PAD]', '[PAD]', '[PAD]', '[PAD]', '[PAD]', '[PAD]', '[PAD]', '[PAD]', '[PAD]', '[PAD]', '[PAD]', '[PAD]', '[PAD]', '[PAD]', '[PAD]', '[PAD]', '[PAD]', '[PAD]', '[PAD]', '[PAD]', '[PAD]', '[PAD]', '[PAD]', '[PAD]', '[PAD]', '[PAD]', '[PAD]', '[PAD]', '[PAD]', '[PAD]', '[PAD]', '[PAD]', '[PAD]', '[PAD]', '[PAD]', '[PAD]', '[PAD]', '[PAD]', '[PAD]', '[PAD]', '[PAD]', '[PAD]', '[PAD]', '[PAD]', '[PAD]', '[PAD]', '[PAD]', '[PAD]', '[PAD]', '[PAD]', '[PAD]', '[PAD]', '[PAD]', '[PAD]', '[PAD]', '[PAD]', '[PAD]']\n"
     ]
    }
   ],
   "source": [
    "tokenizer0 = tokenizer(raw0, add_special_tokens=False, truncation=True, padding='max_length', max_length=512, return_attention_mask=True, return_tensors='pt')\n",
    "input_ids = tokenizer0['input_ids']\n",
    "attention_mask = tokenizer0['attention_mask']\n",
    "print(input_ids)\n",
    "print(input_ids.shape)\n",
    "ids_to_tokens = tokenizer.convert_ids_to_tokens(input_ids.squeeze(0))\n",
    "print(ids_to_tokens)"
   ]
  },
  {
   "cell_type": "code",
   "execution_count": 4,
   "metadata": {},
   "outputs": [
    {
     "name": "stderr",
     "output_type": "stream",
     "text": [
      "C:\\Users\\runze\\AppData\\Local\\Temp\\ipykernel_22576\\1163981945.py:119: UserWarning: To copy construct from a tensor, it is recommended to use sourceTensor.clone().detach() or sourceTensor.clone().detach().requires_grad_(True), rather than torch.tensor(sourceTensor).\n",
      "  'label': torch.tensor(label, dtype=torch.long)\n"
     ]
    },
    {
     "data": {
      "image/png": "[encoded data removed]",
      "text/plain": [
       "<Figure size 640x480 with 1 Axes>"
      ]
     },
     "metadata": {},
     "output_type": "display_data"
    }
   ],
   "source": [
    "stars = [data['label']+1 for data in train_dataset]\n",
    "import matplotlib.pyplot as plt\n",
    "plt.hist(stars, bins=5)\n",
    "plt.xlabel('Stars')\n",
    "plt.ylabel('Count')\n",
    "plt.title('Distribution of Stars in Training Data')\n",
    "plt.show()"
   ]
  },
  {
   "cell_type": "code",
   "execution_count": 12,
   "metadata": {},
   "outputs": [],
   "source": [
    "spilt_ratio = 0.8\n",
    "train_size = int(spilt_ratio * len(train_dataset))\n",
    "valid_size = len(train_dataset) - train_size\n",
    "train_dataset, valid_dataset = torch.utils.data.random_split(train_dataset, [train_size, valid_size])"
   ]
  },
  {
   "cell_type": "code",
   "execution_count": 13,
   "metadata": {},
   "outputs": [],
   "source": [
    "train_loader = DataLoader(train_dataset, batch_size=8, shuffle=True, num_workers=4)\n",
    "valid_loader = DataLoader(valid_dataset, batch_size=8, shuffle=False, num_workers=4)\n",
    "test_loader = DataLoader(test_dataset, batch_size=8, shuffle=False, num_workers=4)"
   ]
  },
  {
   "cell_type": "code",
   "execution_count": 14,
   "metadata": {},
   "outputs": [
    {
     "name": "stdout",
     "output_type": "stream",
     "text": [
      "{'input_ids': tensor([  101,  6359,  7224,   999,  1996,  2833,  2003,  7929,  2021,  1996,\n",
      "         8974,  2024,  2844,  1012,  3046,  1996,  6901,  7975, 11642,  1012,\n",
      "         2035,  1996, 15812,  2015,  2024,  2307,  1012,  4638,  2009,  2041,\n",
      "         1010,  2049,  2488,  2008,  7570, 12184,  2869,   999,   102,     0,\n",
      "            0,     0,     0,     0,     0,     0,     0,     0,     0,     0,\n",
      "            0,     0,     0,     0,     0,     0,     0,     0,     0,     0,\n",
      "            0,     0,     0,     0,     0,     0,     0,     0,     0,     0,\n",
      "            0,     0,     0,     0,     0,     0,     0,     0,     0,     0,\n",
      "            0,     0,     0,     0,     0,     0,     0,     0,     0,     0,\n",
      "            0,     0,     0,     0,     0,     0,     0,     0,     0,     0,\n",
      "            0,     0,     0,     0,     0,     0,     0,     0,     0,     0,\n",
      "            0,     0,     0,     0,     0,     0,     0,     0,     0,     0,\n",
      "            0,     0,     0,     0,     0,     0,     0,     0,     0,     0,\n",
      "            0,     0,     0,     0,     0,     0,     0,     0,     0,     0,\n",
      "            0,     0,     0,     0,     0,     0,     0,     0,     0,     0,\n",
      "            0,     0,     0,     0,     0,     0,     0,     0,     0,     0,\n",
      "            0,     0,     0,     0,     0,     0,     0,     0,     0,     0,\n",
      "            0,     0,     0,     0,     0,     0,     0,     0,     0,     0,\n",
      "            0,     0,     0,     0,     0,     0,     0,     0,     0,     0,\n",
      "            0,     0,     0,     0,     0,     0,     0,     0,     0,     0,\n",
      "            0,     0,     0,     0,     0,     0,     0,     0,     0,     0,\n",
      "            0,     0,     0,     0,     0,     0,     0,     0,     0,     0,\n",
      "            0,     0,     0,     0,     0,     0,     0,     0,     0,     0,\n",
      "            0,     0,     0,     0,     0,     0,     0,     0,     0,     0,\n",
      "            0,     0,     0,     0,     0,     0,     0,     0,     0,     0,\n",
      "            0,     0,     0,     0,     0,     0,     0,     0,     0,     0,\n",
      "            0,     0,     0,     0,     0,     0,     0,     0,     0,     0,\n",
      "            0,     0,     0,     0,     0,     0,     0,     0,     0,     0,\n",
      "            0,     0,     0,     0,     0,     0,     0,     0,     0,     0,\n",
      "            0,     0,     0,     0,     0,     0,     0,     0,     0,     0,\n",
      "            0,     0,     0,     0,     0,     0,     0,     0,     0,     0,\n",
      "            0,     0,     0,     0,     0,     0,     0,     0,     0,     0,\n",
      "            0,     0,     0,     0,     0,     0,     0,     0,     0,     0,\n",
      "            0,     0,     0,     0,     0,     0,     0,     0,     0,     0,\n",
      "            0,     0,     0,     0,     0,     0,     0,     0,     0,     0,\n",
      "            0,     0,     0,     0,     0,     0,     0,     0,     0,     0,\n",
      "            0,     0,     0,     0,     0,     0,     0,     0,     0,     0,\n",
      "            0,     0,     0,     0,     0,     0,     0,     0,     0,     0,\n",
      "            0,     0,     0,     0,     0,     0,     0,     0,     0,     0,\n",
      "            0,     0,     0,     0,     0,     0,     0,     0,     0,     0,\n",
      "            0,     0,     0,     0,     0,     0,     0,     0,     0,     0,\n",
      "            0,     0,     0,     0,     0,     0,     0,     0,     0,     0,\n",
      "            0,     0,     0,     0,     0,     0,     0,     0,     0,     0,\n",
      "            0,     0,     0,     0,     0,     0,     0,     0,     0,     0,\n",
      "            0,     0,     0,     0,     0,     0,     0,     0,     0,     0,\n",
      "            0,     0,     0,     0,     0,     0,     0,     0,     0,     0,\n",
      "            0,     0,     0,     0,     0,     0,     0,     0,     0,     0,\n",
      "            0,     0,     0,     0,     0,     0,     0,     0,     0,     0,\n",
      "            0,     0,     0,     0,     0,     0,     0,     0,     0,     0,\n",
      "            0,     0,     0,     0,     0,     0,     0,     0,     0,     0,\n",
      "            0,     0,     0,     0,     0,     0,     0,     0,     0,     0,\n",
      "            0,     0]), 'attention_mask': tensor([1, 1, 1, 1, 1, 1, 1, 1, 1, 1, 1, 1, 1, 1, 1, 1, 1, 1, 1, 1, 1, 1, 1, 1,\n",
      "        1, 1, 1, 1, 1, 1, 1, 1, 1, 1, 1, 1, 1, 1, 1, 0, 0, 0, 0, 0, 0, 0, 0, 0,\n",
      "        0, 0, 0, 0, 0, 0, 0, 0, 0, 0, 0, 0, 0, 0, 0, 0, 0, 0, 0, 0, 0, 0, 0, 0,\n",
      "        0, 0, 0, 0, 0, 0, 0, 0, 0, 0, 0, 0, 0, 0, 0, 0, 0, 0, 0, 0, 0, 0, 0, 0,\n",
      "        0, 0, 0, 0, 0, 0, 0, 0, 0, 0, 0, 0, 0, 0, 0, 0, 0, 0, 0, 0, 0, 0, 0, 0,\n",
      "        0, 0, 0, 0, 0, 0, 0, 0, 0, 0, 0, 0, 0, 0, 0, 0, 0, 0, 0, 0, 0, 0, 0, 0,\n",
      "        0, 0, 0, 0, 0, 0, 0, 0, 0, 0, 0, 0, 0, 0, 0, 0, 0, 0, 0, 0, 0, 0, 0, 0,\n",
      "        0, 0, 0, 0, 0, 0, 0, 0, 0, 0, 0, 0, 0, 0, 0, 0, 0, 0, 0, 0, 0, 0, 0, 0,\n",
      "        0, 0, 0, 0, 0, 0, 0, 0, 0, 0, 0, 0, 0, 0, 0, 0, 0, 0, 0, 0, 0, 0, 0, 0,\n",
      "        0, 0, 0, 0, 0, 0, 0, 0, 0, 0, 0, 0, 0, 0, 0, 0, 0, 0, 0, 0, 0, 0, 0, 0,\n",
      "        0, 0, 0, 0, 0, 0, 0, 0, 0, 0, 0, 0, 0, 0, 0, 0, 0, 0, 0, 0, 0, 0, 0, 0,\n",
      "        0, 0, 0, 0, 0, 0, 0, 0, 0, 0, 0, 0, 0, 0, 0, 0, 0, 0, 0, 0, 0, 0, 0, 0,\n",
      "        0, 0, 0, 0, 0, 0, 0, 0, 0, 0, 0, 0, 0, 0, 0, 0, 0, 0, 0, 0, 0, 0, 0, 0,\n",
      "        0, 0, 0, 0, 0, 0, 0, 0, 0, 0, 0, 0, 0, 0, 0, 0, 0, 0, 0, 0, 0, 0, 0, 0,\n",
      "        0, 0, 0, 0, 0, 0, 0, 0, 0, 0, 0, 0, 0, 0, 0, 0, 0, 0, 0, 0, 0, 0, 0, 0,\n",
      "        0, 0, 0, 0, 0, 0, 0, 0, 0, 0, 0, 0, 0, 0, 0, 0, 0, 0, 0, 0, 0, 0, 0, 0,\n",
      "        0, 0, 0, 0, 0, 0, 0, 0, 0, 0, 0, 0, 0, 0, 0, 0, 0, 0, 0, 0, 0, 0, 0, 0,\n",
      "        0, 0, 0, 0, 0, 0, 0, 0, 0, 0, 0, 0, 0, 0, 0, 0, 0, 0, 0, 0, 0, 0, 0, 0,\n",
      "        0, 0, 0, 0, 0, 0, 0, 0, 0, 0, 0, 0, 0, 0, 0, 0, 0, 0, 0, 0, 0, 0, 0, 0,\n",
      "        0, 0, 0, 0, 0, 0, 0, 0, 0, 0, 0, 0, 0, 0, 0, 0, 0, 0, 0, 0, 0, 0, 0, 0,\n",
      "        0, 0, 0, 0, 0, 0, 0, 0, 0, 0, 0, 0, 0, 0, 0, 0, 0, 0, 0, 0, 0, 0, 0, 0,\n",
      "        0, 0, 0, 0, 0, 0, 0, 0]), 'label': tensor(4)}\n"
     ]
    },
    {
     "name": "stderr",
     "output_type": "stream",
     "text": [
      "C:\\Users\\runze\\AppData\\Local\\Temp\\ipykernel_15292\\1163981945.py:119: UserWarning: To copy construct from a tensor, it is recommended to use sourceTensor.clone().detach() or sourceTensor.clone().detach().requires_grad_(True), rather than torch.tensor(sourceTensor).\n",
      "  'label': torch.tensor(label, dtype=torch.long)\n"
     ]
    }
   ],
   "source": [
    "print(train_dataset[0])"
   ]
  },
  {
   "cell_type": "code",
   "execution_count": 6,
   "metadata": {},
   "outputs": [
    {
     "name": "stdout",
     "output_type": "stream",
     "text": [
      "torch.Size([8, 512, 128])\n",
      "torch.Size([8, 512, 256])\n",
      "torch.Size([4, 8, 128])\n"
     ]
    }
   ],
   "source": [
    "rnn = nn.RNN(input_size=128, hidden_size=128, num_layers=2, batch_first=True, bidirectional=True).to('cuda')\n",
    "embedding_output = torch.rand(8, 512, 128).to('cuda')\n",
    "\n",
    "\n",
    "print(embedding_output.size())\n",
    "    \n",
    "output, hidden = rnn(embedding_output)\n",
    "print(output.size())\n",
    "print(hidden.size())\n",
    "\n"
   ]
  },
  {
   "cell_type": "code",
   "execution_count": null,
   "metadata": {},
   "outputs": [
    {
     "data": {
      "text/plain": [
       "True"
      ]
     },
     "execution_count": 5,
     "metadata": {},
     "output_type": "execute_result"
    }
   ],
   "source": [
    "last_output = output[:, -1, :]\n",
    "last_hidden = hidden[-1]\n",
    "torch.allclose(last_hidden, last_output)"
   ]
  },
  {
   "cell_type": "code",
   "execution_count": 8,
   "metadata": {},
   "outputs": [],
   "source": [
    "@dataclass\n",
    "class Config:\n",
    "    embedding_dim: int\n",
    "    hidden_dim: int\n",
    "    output_dim: int\n",
    "    n_layers: int\n",
    "    dropout: float\n",
    "    batch_size: int\n",
    "    learning_rate: float\n",
    "    max_length: int\n",
    "    epochs: int\n",
    "\n",
    "\n",
    "config = Config(\n",
    "    embedding_dim=128,\n",
    "    hidden_dim=128,\n",
    "    output_dim=5,\n",
    "    n_layers=2,\n",
    "    dropout=0.5,\n",
    "    batch_size=8,\n",
    "    learning_rate=1e-3,\n",
    "    max_length=512,\n",
    "    epochs=5\n",
    ")\n"
   ]
  }
 ],
 "metadata": {
  "kernelspec": {
   "display_name": "dl",
   "language": "python",
   "name": "python3"
  },
  "language_info": {
   "codemirror_mode": {
    "name": "ipython",
    "version": 3
   },
   "file_extension": ".py",
   "mimetype": "text/x-python",
   "name": "python",
   "nbconvert_exporter": "python",
   "pygments_lexer": "ipython3",
   "version": "3.12.7"
  }
 },
 "nbformat": 4,
 "nbformat_minor": 2
}
